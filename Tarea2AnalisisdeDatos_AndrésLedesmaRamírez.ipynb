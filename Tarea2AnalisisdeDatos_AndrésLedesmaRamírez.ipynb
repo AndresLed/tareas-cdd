{
  "nbformat": 4,
  "nbformat_minor": 0,
  "metadata": {
    "colab": {
      "provenance": []
    },
    "kernelspec": {
      "name": "python3",
      "display_name": "Python 3"
    },
    "language_info": {
      "name": "python"
    }
  },
  "cells": [
    {
      "cell_type": "markdown",
      "source": [
        "#Analisis de datos: Discos Protoplanetarios \n",
        "\n",
        "Ciencia de Datos\n",
        "\n",
        "Grupo: 8365  Semestre: 2023-2\n",
        "\n",
        "Andrés Ledesma Ramírez"
      ],
      "metadata": {
        "id": "papvyW1c7BG2"
      }
    },
    {
      "cell_type": "markdown",
      "source": [
        "##Librerías a usar"
      ],
      "metadata": {
        "id": "g0uCuocEJWrC"
      }
    },
    {
      "cell_type": "code",
      "source": [
        "# imports\n",
        "import numpy as np\n",
        "from IPython.core.display import Image, display\n",
        "import pandas as pd\n",
        "import seaborn as sns\n",
        "from matplotlib import pyplot as plt\n",
        "from matplotlib import rcParams\n"
      ],
      "metadata": {
        "id": "GQua5BUwA_mq"
      },
      "execution_count": 4,
      "outputs": []
    },
    {
      "cell_type": "markdown",
      "source": [],
      "metadata": {
        "id": "2vpJClb77AIl"
      }
    },
    {
      "cell_type": "markdown",
      "source": [
        "##Visualización de los datos"
      ],
      "metadata": {
        "id": "5DyVJbFBIkVp"
      }
    },
    {
      "cell_type": "markdown",
      "source": [
        "Se cargaron los datos para posteriormente convertirlos en un dataframe para su posterior análisis descriptivo."
      ],
      "metadata": {
        "id": "uA7ux4v8bDTo"
      }
    },
    {
      "cell_type": "code",
      "source": [
        "# El conjunto de datos se encuentra en un archivo .csv, el cual es tabular y similar a un .xls (excel)\n",
        "# Los datos se pueden leer con la libreria pandas como sigue\n",
        "data = pd.read_csv('circumstellardisks.csv')\n",
        "# El objeto data contiene una tabla con los datos mencionados, la tabla tiene una cabecera o header\n",
        "# ¿cómo se ve o cómo es?\n",
        "data"
      ],
      "metadata": {
        "colab": {
          "base_uri": "https://localhost:8080/",
          "height": 572
        },
        "id": "8bqoJqrzzOaY",
        "outputId": "9e564f9b-fee5-4145-c435-df041401d2ba"
      },
      "execution_count": 5,
      "outputs": [
        {
          "output_type": "execute_result",
          "data": {
            "text/plain": [
              "                     Object Category Spec Type R band (mag)  Distance (pc)  \\\n",
              "0    2MASSI J1628137-243139       TT       NaN         17.7          140.0   \n",
              "1                    49 Cet   Debris        A1          5.6           59.0   \n",
              "2                    61 Vir   Debris       G7V          4.2            8.5   \n",
              "3                    99 Her   Debris     F7+K4          4.7           15.6   \n",
              "4      [MR81] H alpha 17 NE       TT       M2e         16.9          150.0   \n",
              "..                      ...      ...       ...          ...            ...   \n",
              "318                  WSB 63       TT        M2         15.2          138.0   \n",
              "319                  WSB 67       TT       NaN         13.2          145.0   \n",
              "320                  WSB 82       TT       NaN         11.5          156.0   \n",
              "321                  WW Cha       TT        K5         13.3          160.0   \n",
              "322                zeta Lep   Debris      A0 V          3.4           21.6   \n",
              "\n",
              "     Disk Major Axis &quot;  Disk Diameter (AU)  Inclination (degrees)  \\\n",
              "0                     4.300               602.0                   86.0   \n",
              "1                     9.800               578.0                   79.0   \n",
              "2                    22.000               187.0                   77.0   \n",
              "3                    15.400               240.0                   50.0   \n",
              "4                     0.380                57.0                   20.0   \n",
              "..                      ...                 ...                    ...   \n",
              "318                   0.172                 NaN                    0.0   \n",
              "319                   0.153                 NaN                   45.0   \n",
              "320                   1.640                 NaN                   61.0   \n",
              "321                   1.320               211.2                    NaN   \n",
              "322                   0.280                 6.0                   30.0   \n",
              "\n",
              "     Resolution elements across  At ref. wavelength (microns)  \n",
              "0                          10.8                           2.1  \n",
              "1                          24.5                         850.0  \n",
              "2                           3.7                          70.0  \n",
              "3                           2.8                          70.0  \n",
              "4                           2.9                           2.2  \n",
              "..                          ...                           ...  \n",
              "318                         0.9                        1300.0  \n",
              "319                         0.8                        1300.0  \n",
              "320                        60.7                        1300.0  \n",
              "321                         0.5                        3300.0  \n",
              "322                         0.2                          18.3  \n",
              "\n",
              "[323 rows x 10 columns]"
            ],
            "text/html": [
              "\n",
              "  <div id=\"df-76b77243-de6e-414d-969a-c90f485ab7cf\">\n",
              "    <div class=\"colab-df-container\">\n",
              "      <div>\n",
              "<style scoped>\n",
              "    .dataframe tbody tr th:only-of-type {\n",
              "        vertical-align: middle;\n",
              "    }\n",
              "\n",
              "    .dataframe tbody tr th {\n",
              "        vertical-align: top;\n",
              "    }\n",
              "\n",
              "    .dataframe thead th {\n",
              "        text-align: right;\n",
              "    }\n",
              "</style>\n",
              "<table border=\"1\" class=\"dataframe\">\n",
              "  <thead>\n",
              "    <tr style=\"text-align: right;\">\n",
              "      <th></th>\n",
              "      <th>Object</th>\n",
              "      <th>Category</th>\n",
              "      <th>Spec Type</th>\n",
              "      <th>R band (mag)</th>\n",
              "      <th>Distance (pc)</th>\n",
              "      <th>Disk Major Axis &amp;quot;</th>\n",
              "      <th>Disk Diameter (AU)</th>\n",
              "      <th>Inclination (degrees)</th>\n",
              "      <th>Resolution elements across</th>\n",
              "      <th>At ref. wavelength (microns)</th>\n",
              "    </tr>\n",
              "  </thead>\n",
              "  <tbody>\n",
              "    <tr>\n",
              "      <th>0</th>\n",
              "      <td>2MASSI J1628137-243139</td>\n",
              "      <td>TT</td>\n",
              "      <td>NaN</td>\n",
              "      <td>17.7</td>\n",
              "      <td>140.0</td>\n",
              "      <td>4.300</td>\n",
              "      <td>602.0</td>\n",
              "      <td>86.0</td>\n",
              "      <td>10.8</td>\n",
              "      <td>2.1</td>\n",
              "    </tr>\n",
              "    <tr>\n",
              "      <th>1</th>\n",
              "      <td>49 Cet</td>\n",
              "      <td>Debris</td>\n",
              "      <td>A1</td>\n",
              "      <td>5.6</td>\n",
              "      <td>59.0</td>\n",
              "      <td>9.800</td>\n",
              "      <td>578.0</td>\n",
              "      <td>79.0</td>\n",
              "      <td>24.5</td>\n",
              "      <td>850.0</td>\n",
              "    </tr>\n",
              "    <tr>\n",
              "      <th>2</th>\n",
              "      <td>61 Vir</td>\n",
              "      <td>Debris</td>\n",
              "      <td>G7V</td>\n",
              "      <td>4.2</td>\n",
              "      <td>8.5</td>\n",
              "      <td>22.000</td>\n",
              "      <td>187.0</td>\n",
              "      <td>77.0</td>\n",
              "      <td>3.7</td>\n",
              "      <td>70.0</td>\n",
              "    </tr>\n",
              "    <tr>\n",
              "      <th>3</th>\n",
              "      <td>99 Her</td>\n",
              "      <td>Debris</td>\n",
              "      <td>F7+K4</td>\n",
              "      <td>4.7</td>\n",
              "      <td>15.6</td>\n",
              "      <td>15.400</td>\n",
              "      <td>240.0</td>\n",
              "      <td>50.0</td>\n",
              "      <td>2.8</td>\n",
              "      <td>70.0</td>\n",
              "    </tr>\n",
              "    <tr>\n",
              "      <th>4</th>\n",
              "      <td>[MR81] H alpha 17 NE</td>\n",
              "      <td>TT</td>\n",
              "      <td>M2e</td>\n",
              "      <td>16.9</td>\n",
              "      <td>150.0</td>\n",
              "      <td>0.380</td>\n",
              "      <td>57.0</td>\n",
              "      <td>20.0</td>\n",
              "      <td>2.9</td>\n",
              "      <td>2.2</td>\n",
              "    </tr>\n",
              "    <tr>\n",
              "      <th>...</th>\n",
              "      <td>...</td>\n",
              "      <td>...</td>\n",
              "      <td>...</td>\n",
              "      <td>...</td>\n",
              "      <td>...</td>\n",
              "      <td>...</td>\n",
              "      <td>...</td>\n",
              "      <td>...</td>\n",
              "      <td>...</td>\n",
              "      <td>...</td>\n",
              "    </tr>\n",
              "    <tr>\n",
              "      <th>318</th>\n",
              "      <td>WSB 63</td>\n",
              "      <td>TT</td>\n",
              "      <td>M2</td>\n",
              "      <td>15.2</td>\n",
              "      <td>138.0</td>\n",
              "      <td>0.172</td>\n",
              "      <td>NaN</td>\n",
              "      <td>0.0</td>\n",
              "      <td>0.9</td>\n",
              "      <td>1300.0</td>\n",
              "    </tr>\n",
              "    <tr>\n",
              "      <th>319</th>\n",
              "      <td>WSB 67</td>\n",
              "      <td>TT</td>\n",
              "      <td>NaN</td>\n",
              "      <td>13.2</td>\n",
              "      <td>145.0</td>\n",
              "      <td>0.153</td>\n",
              "      <td>NaN</td>\n",
              "      <td>45.0</td>\n",
              "      <td>0.8</td>\n",
              "      <td>1300.0</td>\n",
              "    </tr>\n",
              "    <tr>\n",
              "      <th>320</th>\n",
              "      <td>WSB 82</td>\n",
              "      <td>TT</td>\n",
              "      <td>NaN</td>\n",
              "      <td>11.5</td>\n",
              "      <td>156.0</td>\n",
              "      <td>1.640</td>\n",
              "      <td>NaN</td>\n",
              "      <td>61.0</td>\n",
              "      <td>60.7</td>\n",
              "      <td>1300.0</td>\n",
              "    </tr>\n",
              "    <tr>\n",
              "      <th>321</th>\n",
              "      <td>WW Cha</td>\n",
              "      <td>TT</td>\n",
              "      <td>K5</td>\n",
              "      <td>13.3</td>\n",
              "      <td>160.0</td>\n",
              "      <td>1.320</td>\n",
              "      <td>211.2</td>\n",
              "      <td>NaN</td>\n",
              "      <td>0.5</td>\n",
              "      <td>3300.0</td>\n",
              "    </tr>\n",
              "    <tr>\n",
              "      <th>322</th>\n",
              "      <td>zeta Lep</td>\n",
              "      <td>Debris</td>\n",
              "      <td>A0 V</td>\n",
              "      <td>3.4</td>\n",
              "      <td>21.6</td>\n",
              "      <td>0.280</td>\n",
              "      <td>6.0</td>\n",
              "      <td>30.0</td>\n",
              "      <td>0.2</td>\n",
              "      <td>18.3</td>\n",
              "    </tr>\n",
              "  </tbody>\n",
              "</table>\n",
              "<p>323 rows × 10 columns</p>\n",
              "</div>\n",
              "      <button class=\"colab-df-convert\" onclick=\"convertToInteractive('df-76b77243-de6e-414d-969a-c90f485ab7cf')\"\n",
              "              title=\"Convert this dataframe to an interactive table.\"\n",
              "              style=\"display:none;\">\n",
              "        \n",
              "  <svg xmlns=\"http://www.w3.org/2000/svg\" height=\"24px\"viewBox=\"0 0 24 24\"\n",
              "       width=\"24px\">\n",
              "    <path d=\"M0 0h24v24H0V0z\" fill=\"none\"/>\n",
              "    <path d=\"M18.56 5.44l.94 2.06.94-2.06 2.06-.94-2.06-.94-.94-2.06-.94 2.06-2.06.94zm-11 1L8.5 8.5l.94-2.06 2.06-.94-2.06-.94L8.5 2.5l-.94 2.06-2.06.94zm10 10l.94 2.06.94-2.06 2.06-.94-2.06-.94-.94-2.06-.94 2.06-2.06.94z\"/><path d=\"M17.41 7.96l-1.37-1.37c-.4-.4-.92-.59-1.43-.59-.52 0-1.04.2-1.43.59L10.3 9.45l-7.72 7.72c-.78.78-.78 2.05 0 2.83L4 21.41c.39.39.9.59 1.41.59.51 0 1.02-.2 1.41-.59l7.78-7.78 2.81-2.81c.8-.78.8-2.07 0-2.86zM5.41 20L4 18.59l7.72-7.72 1.47 1.35L5.41 20z\"/>\n",
              "  </svg>\n",
              "      </button>\n",
              "      \n",
              "  <style>\n",
              "    .colab-df-container {\n",
              "      display:flex;\n",
              "      flex-wrap:wrap;\n",
              "      gap: 12px;\n",
              "    }\n",
              "\n",
              "    .colab-df-convert {\n",
              "      background-color: #E8F0FE;\n",
              "      border: none;\n",
              "      border-radius: 50%;\n",
              "      cursor: pointer;\n",
              "      display: none;\n",
              "      fill: #1967D2;\n",
              "      height: 32px;\n",
              "      padding: 0 0 0 0;\n",
              "      width: 32px;\n",
              "    }\n",
              "\n",
              "    .colab-df-convert:hover {\n",
              "      background-color: #E2EBFA;\n",
              "      box-shadow: 0px 1px 2px rgba(60, 64, 67, 0.3), 0px 1px 3px 1px rgba(60, 64, 67, 0.15);\n",
              "      fill: #174EA6;\n",
              "    }\n",
              "\n",
              "    [theme=dark] .colab-df-convert {\n",
              "      background-color: #3B4455;\n",
              "      fill: #D2E3FC;\n",
              "    }\n",
              "\n",
              "    [theme=dark] .colab-df-convert:hover {\n",
              "      background-color: #434B5C;\n",
              "      box-shadow: 0px 1px 3px 1px rgba(0, 0, 0, 0.15);\n",
              "      filter: drop-shadow(0px 1px 2px rgba(0, 0, 0, 0.3));\n",
              "      fill: #FFFFFF;\n",
              "    }\n",
              "  </style>\n",
              "\n",
              "      <script>\n",
              "        const buttonEl =\n",
              "          document.querySelector('#df-76b77243-de6e-414d-969a-c90f485ab7cf button.colab-df-convert');\n",
              "        buttonEl.style.display =\n",
              "          google.colab.kernel.accessAllowed ? 'block' : 'none';\n",
              "\n",
              "        async function convertToInteractive(key) {\n",
              "          const element = document.querySelector('#df-76b77243-de6e-414d-969a-c90f485ab7cf');\n",
              "          const dataTable =\n",
              "            await google.colab.kernel.invokeFunction('convertToInteractive',\n",
              "                                                     [key], {});\n",
              "          if (!dataTable) return;\n",
              "\n",
              "          const docLinkHtml = 'Like what you see? Visit the ' +\n",
              "            '<a target=\"_blank\" href=https://colab.research.google.com/notebooks/data_table.ipynb>data table notebook</a>'\n",
              "            + ' to learn more about interactive tables.';\n",
              "          element.innerHTML = '';\n",
              "          dataTable['output_type'] = 'display_data';\n",
              "          await google.colab.output.renderOutput(dataTable, element);\n",
              "          const docLink = document.createElement('div');\n",
              "          docLink.innerHTML = docLinkHtml;\n",
              "          element.appendChild(docLink);\n",
              "        }\n",
              "      </script>\n",
              "    </div>\n",
              "  </div>\n",
              "  "
            ]
          },
          "metadata": {},
          "execution_count": 5
        }
      ]
    },
    {
      "cell_type": "markdown",
      "source": [
        "####Selección y renombramiento"
      ],
      "metadata": {
        "id": "659jo8HNJHDE"
      }
    },
    {
      "cell_type": "markdown",
      "source": [
        "Se eligiaron las columnas de interés para esta investigación y se renombraron (en español)."
      ],
      "metadata": {
        "id": "kbWhf2hYbuNT"
      }
    },
    {
      "cell_type": "code",
      "source": [
        "data.drop(['Object', 'Spec Type', 'R band (mag)', 'Resolution elements across', 'At ref. wavelength (microns)'], axis=1, inplace=True)\n",
        "\n"
      ],
      "metadata": {
        "id": "O_j6qZPDFCAu"
      },
      "execution_count": 6,
      "outputs": []
    },
    {
      "cell_type": "code",
      "source": [
        "data=data.rename(columns={'Category': 'Categoría', 'Distance (pc)': 'Distancia', 'Disk Major Axis &quot;':'Eje_mayor','Disk Diameter (AU)':'Diametro','Inclination (degrees)':'Inclinacion'})\n",
        "data"
      ],
      "metadata": {
        "colab": {
          "base_uri": "https://localhost:8080/",
          "height": 424
        },
        "id": "gcYc057nc8j_",
        "outputId": "147c3a41-032f-4dea-d43e-7a66bea388b3"
      },
      "execution_count": 7,
      "outputs": [
        {
          "output_type": "execute_result",
          "data": {
            "text/plain": [
              "    Categoría  Distancia  Eje_mayor  Diametro  Inclinacion\n",
              "0          TT      140.0      4.300     602.0         86.0\n",
              "1      Debris       59.0      9.800     578.0         79.0\n",
              "2      Debris        8.5     22.000     187.0         77.0\n",
              "3      Debris       15.6     15.400     240.0         50.0\n",
              "4          TT      150.0      0.380      57.0         20.0\n",
              "..        ...        ...        ...       ...          ...\n",
              "318        TT      138.0      0.172       NaN          0.0\n",
              "319        TT      145.0      0.153       NaN         45.0\n",
              "320        TT      156.0      1.640       NaN         61.0\n",
              "321        TT      160.0      1.320     211.2          NaN\n",
              "322    Debris       21.6      0.280       6.0         30.0\n",
              "\n",
              "[323 rows x 5 columns]"
            ],
            "text/html": [
              "\n",
              "  <div id=\"df-2ed5ebb6-0657-4196-843d-1aa5e4682e59\">\n",
              "    <div class=\"colab-df-container\">\n",
              "      <div>\n",
              "<style scoped>\n",
              "    .dataframe tbody tr th:only-of-type {\n",
              "        vertical-align: middle;\n",
              "    }\n",
              "\n",
              "    .dataframe tbody tr th {\n",
              "        vertical-align: top;\n",
              "    }\n",
              "\n",
              "    .dataframe thead th {\n",
              "        text-align: right;\n",
              "    }\n",
              "</style>\n",
              "<table border=\"1\" class=\"dataframe\">\n",
              "  <thead>\n",
              "    <tr style=\"text-align: right;\">\n",
              "      <th></th>\n",
              "      <th>Categoría</th>\n",
              "      <th>Distancia</th>\n",
              "      <th>Eje_mayor</th>\n",
              "      <th>Diametro</th>\n",
              "      <th>Inclinacion</th>\n",
              "    </tr>\n",
              "  </thead>\n",
              "  <tbody>\n",
              "    <tr>\n",
              "      <th>0</th>\n",
              "      <td>TT</td>\n",
              "      <td>140.0</td>\n",
              "      <td>4.300</td>\n",
              "      <td>602.0</td>\n",
              "      <td>86.0</td>\n",
              "    </tr>\n",
              "    <tr>\n",
              "      <th>1</th>\n",
              "      <td>Debris</td>\n",
              "      <td>59.0</td>\n",
              "      <td>9.800</td>\n",
              "      <td>578.0</td>\n",
              "      <td>79.0</td>\n",
              "    </tr>\n",
              "    <tr>\n",
              "      <th>2</th>\n",
              "      <td>Debris</td>\n",
              "      <td>8.5</td>\n",
              "      <td>22.000</td>\n",
              "      <td>187.0</td>\n",
              "      <td>77.0</td>\n",
              "    </tr>\n",
              "    <tr>\n",
              "      <th>3</th>\n",
              "      <td>Debris</td>\n",
              "      <td>15.6</td>\n",
              "      <td>15.400</td>\n",
              "      <td>240.0</td>\n",
              "      <td>50.0</td>\n",
              "    </tr>\n",
              "    <tr>\n",
              "      <th>4</th>\n",
              "      <td>TT</td>\n",
              "      <td>150.0</td>\n",
              "      <td>0.380</td>\n",
              "      <td>57.0</td>\n",
              "      <td>20.0</td>\n",
              "    </tr>\n",
              "    <tr>\n",
              "      <th>...</th>\n",
              "      <td>...</td>\n",
              "      <td>...</td>\n",
              "      <td>...</td>\n",
              "      <td>...</td>\n",
              "      <td>...</td>\n",
              "    </tr>\n",
              "    <tr>\n",
              "      <th>318</th>\n",
              "      <td>TT</td>\n",
              "      <td>138.0</td>\n",
              "      <td>0.172</td>\n",
              "      <td>NaN</td>\n",
              "      <td>0.0</td>\n",
              "    </tr>\n",
              "    <tr>\n",
              "      <th>319</th>\n",
              "      <td>TT</td>\n",
              "      <td>145.0</td>\n",
              "      <td>0.153</td>\n",
              "      <td>NaN</td>\n",
              "      <td>45.0</td>\n",
              "    </tr>\n",
              "    <tr>\n",
              "      <th>320</th>\n",
              "      <td>TT</td>\n",
              "      <td>156.0</td>\n",
              "      <td>1.640</td>\n",
              "      <td>NaN</td>\n",
              "      <td>61.0</td>\n",
              "    </tr>\n",
              "    <tr>\n",
              "      <th>321</th>\n",
              "      <td>TT</td>\n",
              "      <td>160.0</td>\n",
              "      <td>1.320</td>\n",
              "      <td>211.2</td>\n",
              "      <td>NaN</td>\n",
              "    </tr>\n",
              "    <tr>\n",
              "      <th>322</th>\n",
              "      <td>Debris</td>\n",
              "      <td>21.6</td>\n",
              "      <td>0.280</td>\n",
              "      <td>6.0</td>\n",
              "      <td>30.0</td>\n",
              "    </tr>\n",
              "  </tbody>\n",
              "</table>\n",
              "<p>323 rows × 5 columns</p>\n",
              "</div>\n",
              "      <button class=\"colab-df-convert\" onclick=\"convertToInteractive('df-2ed5ebb6-0657-4196-843d-1aa5e4682e59')\"\n",
              "              title=\"Convert this dataframe to an interactive table.\"\n",
              "              style=\"display:none;\">\n",
              "        \n",
              "  <svg xmlns=\"http://www.w3.org/2000/svg\" height=\"24px\"viewBox=\"0 0 24 24\"\n",
              "       width=\"24px\">\n",
              "    <path d=\"M0 0h24v24H0V0z\" fill=\"none\"/>\n",
              "    <path d=\"M18.56 5.44l.94 2.06.94-2.06 2.06-.94-2.06-.94-.94-2.06-.94 2.06-2.06.94zm-11 1L8.5 8.5l.94-2.06 2.06-.94-2.06-.94L8.5 2.5l-.94 2.06-2.06.94zm10 10l.94 2.06.94-2.06 2.06-.94-2.06-.94-.94-2.06-.94 2.06-2.06.94z\"/><path d=\"M17.41 7.96l-1.37-1.37c-.4-.4-.92-.59-1.43-.59-.52 0-1.04.2-1.43.59L10.3 9.45l-7.72 7.72c-.78.78-.78 2.05 0 2.83L4 21.41c.39.39.9.59 1.41.59.51 0 1.02-.2 1.41-.59l7.78-7.78 2.81-2.81c.8-.78.8-2.07 0-2.86zM5.41 20L4 18.59l7.72-7.72 1.47 1.35L5.41 20z\"/>\n",
              "  </svg>\n",
              "      </button>\n",
              "      \n",
              "  <style>\n",
              "    .colab-df-container {\n",
              "      display:flex;\n",
              "      flex-wrap:wrap;\n",
              "      gap: 12px;\n",
              "    }\n",
              "\n",
              "    .colab-df-convert {\n",
              "      background-color: #E8F0FE;\n",
              "      border: none;\n",
              "      border-radius: 50%;\n",
              "      cursor: pointer;\n",
              "      display: none;\n",
              "      fill: #1967D2;\n",
              "      height: 32px;\n",
              "      padding: 0 0 0 0;\n",
              "      width: 32px;\n",
              "    }\n",
              "\n",
              "    .colab-df-convert:hover {\n",
              "      background-color: #E2EBFA;\n",
              "      box-shadow: 0px 1px 2px rgba(60, 64, 67, 0.3), 0px 1px 3px 1px rgba(60, 64, 67, 0.15);\n",
              "      fill: #174EA6;\n",
              "    }\n",
              "\n",
              "    [theme=dark] .colab-df-convert {\n",
              "      background-color: #3B4455;\n",
              "      fill: #D2E3FC;\n",
              "    }\n",
              "\n",
              "    [theme=dark] .colab-df-convert:hover {\n",
              "      background-color: #434B5C;\n",
              "      box-shadow: 0px 1px 3px 1px rgba(0, 0, 0, 0.15);\n",
              "      filter: drop-shadow(0px 1px 2px rgba(0, 0, 0, 0.3));\n",
              "      fill: #FFFFFF;\n",
              "    }\n",
              "  </style>\n",
              "\n",
              "      <script>\n",
              "        const buttonEl =\n",
              "          document.querySelector('#df-2ed5ebb6-0657-4196-843d-1aa5e4682e59 button.colab-df-convert');\n",
              "        buttonEl.style.display =\n",
              "          google.colab.kernel.accessAllowed ? 'block' : 'none';\n",
              "\n",
              "        async function convertToInteractive(key) {\n",
              "          const element = document.querySelector('#df-2ed5ebb6-0657-4196-843d-1aa5e4682e59');\n",
              "          const dataTable =\n",
              "            await google.colab.kernel.invokeFunction('convertToInteractive',\n",
              "                                                     [key], {});\n",
              "          if (!dataTable) return;\n",
              "\n",
              "          const docLinkHtml = 'Like what you see? Visit the ' +\n",
              "            '<a target=\"_blank\" href=https://colab.research.google.com/notebooks/data_table.ipynb>data table notebook</a>'\n",
              "            + ' to learn more about interactive tables.';\n",
              "          element.innerHTML = '';\n",
              "          dataTable['output_type'] = 'display_data';\n",
              "          await google.colab.output.renderOutput(dataTable, element);\n",
              "          const docLink = document.createElement('div');\n",
              "          docLink.innerHTML = docLinkHtml;\n",
              "          element.appendChild(docLink);\n",
              "        }\n",
              "      </script>\n",
              "    </div>\n",
              "  </div>\n",
              "  "
            ]
          },
          "metadata": {},
          "execution_count": 7
        }
      ]
    },
    {
      "cell_type": "markdown",
      "source": [
        "####Resumen estadístico global"
      ],
      "metadata": {
        "id": "Fp2dzalpIdvn"
      }
    },
    {
      "cell_type": "markdown",
      "source": [
        "Se realizó un resumen estadístico global en el cual se clasificaron las variables por cualitativas y cuantitativas. Para el caso de las variables cuantitativas Se obtuvieron los valores mínimo y máximo, los cuartiles y la media."
      ],
      "metadata": {
        "id": "lDQDnbRDcEMg"
      }
    },
    {
      "cell_type": "code",
      "source": [
        "data.columns"
      ],
      "metadata": {
        "colab": {
          "base_uri": "https://localhost:8080/"
        },
        "id": "DBwF6CWqk5dU",
        "outputId": "373d5262-07e1-4447-d76f-c14541bf675f"
      },
      "execution_count": 8,
      "outputs": [
        {
          "output_type": "execute_result",
          "data": {
            "text/plain": [
              "Index(['Categoría', 'Distancia', 'Eje_mayor', 'Diametro', 'Inclinacion'], dtype='object')"
            ]
          },
          "metadata": {},
          "execution_count": 8
        }
      ]
    },
    {
      "cell_type": "code",
      "source": [
        "data.info()"
      ],
      "metadata": {
        "id": "EmHdN6aecAgu",
        "colab": {
          "base_uri": "https://localhost:8080/"
        },
        "outputId": "ae3f66bd-0f03-442b-f262-7102654f28e7"
      },
      "execution_count": 9,
      "outputs": [
        {
          "output_type": "stream",
          "name": "stdout",
          "text": [
            "<class 'pandas.core.frame.DataFrame'>\n",
            "RangeIndex: 323 entries, 0 to 322\n",
            "Data columns (total 5 columns):\n",
            " #   Column       Non-Null Count  Dtype  \n",
            "---  ------       --------------  -----  \n",
            " 0   Categoría    319 non-null    object \n",
            " 1   Distancia    323 non-null    float64\n",
            " 2   Eje_mayor    322 non-null    float64\n",
            " 3   Diametro     239 non-null    float64\n",
            " 4   Inclinacion  313 non-null    float64\n",
            "dtypes: float64(4), object(1)\n",
            "memory usage: 12.7+ KB\n"
          ]
        }
      ]
    },
    {
      "cell_type": "code",
      "source": [
        "# ¿Cuántos valores nulos hay en cada columna?\n",
        "data.isna().sum()"
      ],
      "metadata": {
        "colab": {
          "base_uri": "https://localhost:8080/"
        },
        "id": "oCZpugO5il2k",
        "outputId": "12a86b3d-a91e-4174-e75a-65fde5449285"
      },
      "execution_count": 10,
      "outputs": [
        {
          "output_type": "execute_result",
          "data": {
            "text/plain": [
              "Categoría       4\n",
              "Distancia       0\n",
              "Eje_mayor       1\n",
              "Diametro       84\n",
              "Inclinacion    10\n",
              "dtype: int64"
            ]
          },
          "metadata": {},
          "execution_count": 10
        }
      ]
    },
    {
      "cell_type": "markdown",
      "source": [],
      "metadata": {
        "id": "_j1BksZEhoh6"
      }
    },
    {
      "cell_type": "markdown",
      "source": [
        "Al hacer el diagnóstico de los datos se exhibió la naturaleza de las variables, con cuatro variables cuantitativas y una cualitativa, además de se evidenció que la variable de diámetro fue la variable con la mayor cantidad de datos faltantes (84 de 323) los cuales tenían una carga del 26% de los datos de esta variable. Por lo tanto es necesario fue necesaria la realización de un tratamiento con estos datos faltantes."
      ],
      "metadata": {
        "id": "tLiXErSYbJRl"
      }
    },
    {
      "cell_type": "code",
      "source": [
        "# Una vista muy general de la estadística descriptiva de los datos se puede obtener con el método describe\n",
        "data.describe(include='all').T"
      ],
      "metadata": {
        "colab": {
          "base_uri": "https://localhost:8080/",
          "height": 206
        },
        "id": "nxR0P0T1KsID",
        "outputId": "d5e15804-ac72-441b-faa3-a4411542ab4a"
      },
      "execution_count": 11,
      "outputs": [
        {
          "output_type": "execute_result",
          "data": {
            "text/plain": [
              "             count unique     top freq        mean          std    min  \\\n",
              "Categoría      319     10  Debris  103         NaN          NaN    NaN   \n",
              "Distancia    323.0    NaN     NaN  NaN  189.442601   301.034245   3.22   \n",
              "Eje_mayor    322.0    NaN     NaN  NaN    4.419929     9.916898  0.032   \n",
              "Diametro     239.0    NaN     NaN  NaN  583.113556  1677.250776    3.8   \n",
              "Inclinacion  313.0    NaN     NaN  NaN   54.144728    24.366221    0.0   \n",
              "\n",
              "                 25%    50%    75%      max  \n",
              "Categoría        NaN    NaN    NaN      NaN  \n",
              "Distancia       91.2  140.0  155.0   3500.0  \n",
              "Eje_mayor    0.51225    1.4    4.3    140.0  \n",
              "Diametro       140.0  240.0  440.0  19800.0  \n",
              "Inclinacion     36.0   57.0   75.0    104.0  "
            ],
            "text/html": [
              "\n",
              "  <div id=\"df-10b8c568-60bc-4213-8ac2-371fb32a387b\">\n",
              "    <div class=\"colab-df-container\">\n",
              "      <div>\n",
              "<style scoped>\n",
              "    .dataframe tbody tr th:only-of-type {\n",
              "        vertical-align: middle;\n",
              "    }\n",
              "\n",
              "    .dataframe tbody tr th {\n",
              "        vertical-align: top;\n",
              "    }\n",
              "\n",
              "    .dataframe thead th {\n",
              "        text-align: right;\n",
              "    }\n",
              "</style>\n",
              "<table border=\"1\" class=\"dataframe\">\n",
              "  <thead>\n",
              "    <tr style=\"text-align: right;\">\n",
              "      <th></th>\n",
              "      <th>count</th>\n",
              "      <th>unique</th>\n",
              "      <th>top</th>\n",
              "      <th>freq</th>\n",
              "      <th>mean</th>\n",
              "      <th>std</th>\n",
              "      <th>min</th>\n",
              "      <th>25%</th>\n",
              "      <th>50%</th>\n",
              "      <th>75%</th>\n",
              "      <th>max</th>\n",
              "    </tr>\n",
              "  </thead>\n",
              "  <tbody>\n",
              "    <tr>\n",
              "      <th>Categoría</th>\n",
              "      <td>319</td>\n",
              "      <td>10</td>\n",
              "      <td>Debris</td>\n",
              "      <td>103</td>\n",
              "      <td>NaN</td>\n",
              "      <td>NaN</td>\n",
              "      <td>NaN</td>\n",
              "      <td>NaN</td>\n",
              "      <td>NaN</td>\n",
              "      <td>NaN</td>\n",
              "      <td>NaN</td>\n",
              "    </tr>\n",
              "    <tr>\n",
              "      <th>Distancia</th>\n",
              "      <td>323.0</td>\n",
              "      <td>NaN</td>\n",
              "      <td>NaN</td>\n",
              "      <td>NaN</td>\n",
              "      <td>189.442601</td>\n",
              "      <td>301.034245</td>\n",
              "      <td>3.22</td>\n",
              "      <td>91.2</td>\n",
              "      <td>140.0</td>\n",
              "      <td>155.0</td>\n",
              "      <td>3500.0</td>\n",
              "    </tr>\n",
              "    <tr>\n",
              "      <th>Eje_mayor</th>\n",
              "      <td>322.0</td>\n",
              "      <td>NaN</td>\n",
              "      <td>NaN</td>\n",
              "      <td>NaN</td>\n",
              "      <td>4.419929</td>\n",
              "      <td>9.916898</td>\n",
              "      <td>0.032</td>\n",
              "      <td>0.51225</td>\n",
              "      <td>1.4</td>\n",
              "      <td>4.3</td>\n",
              "      <td>140.0</td>\n",
              "    </tr>\n",
              "    <tr>\n",
              "      <th>Diametro</th>\n",
              "      <td>239.0</td>\n",
              "      <td>NaN</td>\n",
              "      <td>NaN</td>\n",
              "      <td>NaN</td>\n",
              "      <td>583.113556</td>\n",
              "      <td>1677.250776</td>\n",
              "      <td>3.8</td>\n",
              "      <td>140.0</td>\n",
              "      <td>240.0</td>\n",
              "      <td>440.0</td>\n",
              "      <td>19800.0</td>\n",
              "    </tr>\n",
              "    <tr>\n",
              "      <th>Inclinacion</th>\n",
              "      <td>313.0</td>\n",
              "      <td>NaN</td>\n",
              "      <td>NaN</td>\n",
              "      <td>NaN</td>\n",
              "      <td>54.144728</td>\n",
              "      <td>24.366221</td>\n",
              "      <td>0.0</td>\n",
              "      <td>36.0</td>\n",
              "      <td>57.0</td>\n",
              "      <td>75.0</td>\n",
              "      <td>104.0</td>\n",
              "    </tr>\n",
              "  </tbody>\n",
              "</table>\n",
              "</div>\n",
              "      <button class=\"colab-df-convert\" onclick=\"convertToInteractive('df-10b8c568-60bc-4213-8ac2-371fb32a387b')\"\n",
              "              title=\"Convert this dataframe to an interactive table.\"\n",
              "              style=\"display:none;\">\n",
              "        \n",
              "  <svg xmlns=\"http://www.w3.org/2000/svg\" height=\"24px\"viewBox=\"0 0 24 24\"\n",
              "       width=\"24px\">\n",
              "    <path d=\"M0 0h24v24H0V0z\" fill=\"none\"/>\n",
              "    <path d=\"M18.56 5.44l.94 2.06.94-2.06 2.06-.94-2.06-.94-.94-2.06-.94 2.06-2.06.94zm-11 1L8.5 8.5l.94-2.06 2.06-.94-2.06-.94L8.5 2.5l-.94 2.06-2.06.94zm10 10l.94 2.06.94-2.06 2.06-.94-2.06-.94-.94-2.06-.94 2.06-2.06.94z\"/><path d=\"M17.41 7.96l-1.37-1.37c-.4-.4-.92-.59-1.43-.59-.52 0-1.04.2-1.43.59L10.3 9.45l-7.72 7.72c-.78.78-.78 2.05 0 2.83L4 21.41c.39.39.9.59 1.41.59.51 0 1.02-.2 1.41-.59l7.78-7.78 2.81-2.81c.8-.78.8-2.07 0-2.86zM5.41 20L4 18.59l7.72-7.72 1.47 1.35L5.41 20z\"/>\n",
              "  </svg>\n",
              "      </button>\n",
              "      \n",
              "  <style>\n",
              "    .colab-df-container {\n",
              "      display:flex;\n",
              "      flex-wrap:wrap;\n",
              "      gap: 12px;\n",
              "    }\n",
              "\n",
              "    .colab-df-convert {\n",
              "      background-color: #E8F0FE;\n",
              "      border: none;\n",
              "      border-radius: 50%;\n",
              "      cursor: pointer;\n",
              "      display: none;\n",
              "      fill: #1967D2;\n",
              "      height: 32px;\n",
              "      padding: 0 0 0 0;\n",
              "      width: 32px;\n",
              "    }\n",
              "\n",
              "    .colab-df-convert:hover {\n",
              "      background-color: #E2EBFA;\n",
              "      box-shadow: 0px 1px 2px rgba(60, 64, 67, 0.3), 0px 1px 3px 1px rgba(60, 64, 67, 0.15);\n",
              "      fill: #174EA6;\n",
              "    }\n",
              "\n",
              "    [theme=dark] .colab-df-convert {\n",
              "      background-color: #3B4455;\n",
              "      fill: #D2E3FC;\n",
              "    }\n",
              "\n",
              "    [theme=dark] .colab-df-convert:hover {\n",
              "      background-color: #434B5C;\n",
              "      box-shadow: 0px 1px 3px 1px rgba(0, 0, 0, 0.15);\n",
              "      filter: drop-shadow(0px 1px 2px rgba(0, 0, 0, 0.3));\n",
              "      fill: #FFFFFF;\n",
              "    }\n",
              "  </style>\n",
              "\n",
              "      <script>\n",
              "        const buttonEl =\n",
              "          document.querySelector('#df-10b8c568-60bc-4213-8ac2-371fb32a387b button.colab-df-convert');\n",
              "        buttonEl.style.display =\n",
              "          google.colab.kernel.accessAllowed ? 'block' : 'none';\n",
              "\n",
              "        async function convertToInteractive(key) {\n",
              "          const element = document.querySelector('#df-10b8c568-60bc-4213-8ac2-371fb32a387b');\n",
              "          const dataTable =\n",
              "            await google.colab.kernel.invokeFunction('convertToInteractive',\n",
              "                                                     [key], {});\n",
              "          if (!dataTable) return;\n",
              "\n",
              "          const docLinkHtml = 'Like what you see? Visit the ' +\n",
              "            '<a target=\"_blank\" href=https://colab.research.google.com/notebooks/data_table.ipynb>data table notebook</a>'\n",
              "            + ' to learn more about interactive tables.';\n",
              "          element.innerHTML = '';\n",
              "          dataTable['output_type'] = 'display_data';\n",
              "          await google.colab.output.renderOutput(dataTable, element);\n",
              "          const docLink = document.createElement('div');\n",
              "          docLink.innerHTML = docLinkHtml;\n",
              "          element.appendChild(docLink);\n",
              "        }\n",
              "      </script>\n",
              "    </div>\n",
              "  </div>\n",
              "  "
            ]
          },
          "metadata": {},
          "execution_count": 11
        }
      ]
    },
    {
      "cell_type": "markdown",
      "source": [
        "####Limpieza de datos faltantes"
      ],
      "metadata": {
        "id": "qXys5F_gIUD-"
      }
    },
    {
      "cell_type": "markdown",
      "source": [
        "Para as tres columnas con datos faltantes (sólo las variables numéricas), se tartaron los datos fatantes, fueron reemplazados por el promedio y la meduiana. "
      ],
      "metadata": {
        "id": "RiuFN3GLydVi"
      }
    },
    {
      "cell_type": "code",
      "source": [
        "# Sustitumos estas medias globales por todos los datos faltantes en su respectiva columna:\n",
        "data['Eje_Mayor_nan_mu'] = data.Eje_mayor.fillna(data.Eje_mayor.mean())\n",
        "data['Eje_Mayor_med'] = data.Eje_mayor.fillna(data.Eje_mayor.median())\n",
        "data['Diametro_mu'] = data.Diametro.fillna(data.Diametro.mean())\n",
        "data['Diametro_med'] = data.Diametro.fillna(data.Diametro.median())\n",
        "data['Inclinacion_mu'] = data.Inclinacion.fillna(data.Inclinacion.mean())\n",
        "data['Inclinacion_med'] = data.Inclinacion.fillna(data.Inclinacion.median())\n",
        "\n",
        "data"
      ],
      "metadata": {
        "id": "uYibz_5neRUr",
        "colab": {
          "base_uri": "https://localhost:8080/",
          "height": 488
        },
        "outputId": "f14927c1-cc76-4908-ef15-e4ed785e10d3"
      },
      "execution_count": 12,
      "outputs": [
        {
          "output_type": "execute_result",
          "data": {
            "text/plain": [
              "    Categoría  Distancia  Eje_mayor  Diametro  Inclinacion  Eje_Mayor_nan_mu  \\\n",
              "0          TT      140.0      4.300     602.0         86.0             4.300   \n",
              "1      Debris       59.0      9.800     578.0         79.0             9.800   \n",
              "2      Debris        8.5     22.000     187.0         77.0            22.000   \n",
              "3      Debris       15.6     15.400     240.0         50.0            15.400   \n",
              "4          TT      150.0      0.380      57.0         20.0             0.380   \n",
              "..        ...        ...        ...       ...          ...               ...   \n",
              "318        TT      138.0      0.172       NaN          0.0             0.172   \n",
              "319        TT      145.0      0.153       NaN         45.0             0.153   \n",
              "320        TT      156.0      1.640       NaN         61.0             1.640   \n",
              "321        TT      160.0      1.320     211.2          NaN             1.320   \n",
              "322    Debris       21.6      0.280       6.0         30.0             0.280   \n",
              "\n",
              "     Eje_Mayor_med  Diametro_mu  Diametro_med  Inclinacion_mu  Inclinacion_med  \n",
              "0            4.300   602.000000         602.0       86.000000             86.0  \n",
              "1            9.800   578.000000         578.0       79.000000             79.0  \n",
              "2           22.000   187.000000         187.0       77.000000             77.0  \n",
              "3           15.400   240.000000         240.0       50.000000             50.0  \n",
              "4            0.380    57.000000          57.0       20.000000             20.0  \n",
              "..             ...          ...           ...             ...              ...  \n",
              "318          0.172   583.113556         240.0        0.000000              0.0  \n",
              "319          0.153   583.113556         240.0       45.000000             45.0  \n",
              "320          1.640   583.113556         240.0       61.000000             61.0  \n",
              "321          1.320   211.200000         211.2       54.144728             57.0  \n",
              "322          0.280     6.000000           6.0       30.000000             30.0  \n",
              "\n",
              "[323 rows x 11 columns]"
            ],
            "text/html": [
              "\n",
              "  <div id=\"df-57c528ca-b0c1-4509-aa48-0ef9418c9f60\">\n",
              "    <div class=\"colab-df-container\">\n",
              "      <div>\n",
              "<style scoped>\n",
              "    .dataframe tbody tr th:only-of-type {\n",
              "        vertical-align: middle;\n",
              "    }\n",
              "\n",
              "    .dataframe tbody tr th {\n",
              "        vertical-align: top;\n",
              "    }\n",
              "\n",
              "    .dataframe thead th {\n",
              "        text-align: right;\n",
              "    }\n",
              "</style>\n",
              "<table border=\"1\" class=\"dataframe\">\n",
              "  <thead>\n",
              "    <tr style=\"text-align: right;\">\n",
              "      <th></th>\n",
              "      <th>Categoría</th>\n",
              "      <th>Distancia</th>\n",
              "      <th>Eje_mayor</th>\n",
              "      <th>Diametro</th>\n",
              "      <th>Inclinacion</th>\n",
              "      <th>Eje_Mayor_nan_mu</th>\n",
              "      <th>Eje_Mayor_med</th>\n",
              "      <th>Diametro_mu</th>\n",
              "      <th>Diametro_med</th>\n",
              "      <th>Inclinacion_mu</th>\n",
              "      <th>Inclinacion_med</th>\n",
              "    </tr>\n",
              "  </thead>\n",
              "  <tbody>\n",
              "    <tr>\n",
              "      <th>0</th>\n",
              "      <td>TT</td>\n",
              "      <td>140.0</td>\n",
              "      <td>4.300</td>\n",
              "      <td>602.0</td>\n",
              "      <td>86.0</td>\n",
              "      <td>4.300</td>\n",
              "      <td>4.300</td>\n",
              "      <td>602.000000</td>\n",
              "      <td>602.0</td>\n",
              "      <td>86.000000</td>\n",
              "      <td>86.0</td>\n",
              "    </tr>\n",
              "    <tr>\n",
              "      <th>1</th>\n",
              "      <td>Debris</td>\n",
              "      <td>59.0</td>\n",
              "      <td>9.800</td>\n",
              "      <td>578.0</td>\n",
              "      <td>79.0</td>\n",
              "      <td>9.800</td>\n",
              "      <td>9.800</td>\n",
              "      <td>578.000000</td>\n",
              "      <td>578.0</td>\n",
              "      <td>79.000000</td>\n",
              "      <td>79.0</td>\n",
              "    </tr>\n",
              "    <tr>\n",
              "      <th>2</th>\n",
              "      <td>Debris</td>\n",
              "      <td>8.5</td>\n",
              "      <td>22.000</td>\n",
              "      <td>187.0</td>\n",
              "      <td>77.0</td>\n",
              "      <td>22.000</td>\n",
              "      <td>22.000</td>\n",
              "      <td>187.000000</td>\n",
              "      <td>187.0</td>\n",
              "      <td>77.000000</td>\n",
              "      <td>77.0</td>\n",
              "    </tr>\n",
              "    <tr>\n",
              "      <th>3</th>\n",
              "      <td>Debris</td>\n",
              "      <td>15.6</td>\n",
              "      <td>15.400</td>\n",
              "      <td>240.0</td>\n",
              "      <td>50.0</td>\n",
              "      <td>15.400</td>\n",
              "      <td>15.400</td>\n",
              "      <td>240.000000</td>\n",
              "      <td>240.0</td>\n",
              "      <td>50.000000</td>\n",
              "      <td>50.0</td>\n",
              "    </tr>\n",
              "    <tr>\n",
              "      <th>4</th>\n",
              "      <td>TT</td>\n",
              "      <td>150.0</td>\n",
              "      <td>0.380</td>\n",
              "      <td>57.0</td>\n",
              "      <td>20.0</td>\n",
              "      <td>0.380</td>\n",
              "      <td>0.380</td>\n",
              "      <td>57.000000</td>\n",
              "      <td>57.0</td>\n",
              "      <td>20.000000</td>\n",
              "      <td>20.0</td>\n",
              "    </tr>\n",
              "    <tr>\n",
              "      <th>...</th>\n",
              "      <td>...</td>\n",
              "      <td>...</td>\n",
              "      <td>...</td>\n",
              "      <td>...</td>\n",
              "      <td>...</td>\n",
              "      <td>...</td>\n",
              "      <td>...</td>\n",
              "      <td>...</td>\n",
              "      <td>...</td>\n",
              "      <td>...</td>\n",
              "      <td>...</td>\n",
              "    </tr>\n",
              "    <tr>\n",
              "      <th>318</th>\n",
              "      <td>TT</td>\n",
              "      <td>138.0</td>\n",
              "      <td>0.172</td>\n",
              "      <td>NaN</td>\n",
              "      <td>0.0</td>\n",
              "      <td>0.172</td>\n",
              "      <td>0.172</td>\n",
              "      <td>583.113556</td>\n",
              "      <td>240.0</td>\n",
              "      <td>0.000000</td>\n",
              "      <td>0.0</td>\n",
              "    </tr>\n",
              "    <tr>\n",
              "      <th>319</th>\n",
              "      <td>TT</td>\n",
              "      <td>145.0</td>\n",
              "      <td>0.153</td>\n",
              "      <td>NaN</td>\n",
              "      <td>45.0</td>\n",
              "      <td>0.153</td>\n",
              "      <td>0.153</td>\n",
              "      <td>583.113556</td>\n",
              "      <td>240.0</td>\n",
              "      <td>45.000000</td>\n",
              "      <td>45.0</td>\n",
              "    </tr>\n",
              "    <tr>\n",
              "      <th>320</th>\n",
              "      <td>TT</td>\n",
              "      <td>156.0</td>\n",
              "      <td>1.640</td>\n",
              "      <td>NaN</td>\n",
              "      <td>61.0</td>\n",
              "      <td>1.640</td>\n",
              "      <td>1.640</td>\n",
              "      <td>583.113556</td>\n",
              "      <td>240.0</td>\n",
              "      <td>61.000000</td>\n",
              "      <td>61.0</td>\n",
              "    </tr>\n",
              "    <tr>\n",
              "      <th>321</th>\n",
              "      <td>TT</td>\n",
              "      <td>160.0</td>\n",
              "      <td>1.320</td>\n",
              "      <td>211.2</td>\n",
              "      <td>NaN</td>\n",
              "      <td>1.320</td>\n",
              "      <td>1.320</td>\n",
              "      <td>211.200000</td>\n",
              "      <td>211.2</td>\n",
              "      <td>54.144728</td>\n",
              "      <td>57.0</td>\n",
              "    </tr>\n",
              "    <tr>\n",
              "      <th>322</th>\n",
              "      <td>Debris</td>\n",
              "      <td>21.6</td>\n",
              "      <td>0.280</td>\n",
              "      <td>6.0</td>\n",
              "      <td>30.0</td>\n",
              "      <td>0.280</td>\n",
              "      <td>0.280</td>\n",
              "      <td>6.000000</td>\n",
              "      <td>6.0</td>\n",
              "      <td>30.000000</td>\n",
              "      <td>30.0</td>\n",
              "    </tr>\n",
              "  </tbody>\n",
              "</table>\n",
              "<p>323 rows × 11 columns</p>\n",
              "</div>\n",
              "      <button class=\"colab-df-convert\" onclick=\"convertToInteractive('df-57c528ca-b0c1-4509-aa48-0ef9418c9f60')\"\n",
              "              title=\"Convert this dataframe to an interactive table.\"\n",
              "              style=\"display:none;\">\n",
              "        \n",
              "  <svg xmlns=\"http://www.w3.org/2000/svg\" height=\"24px\"viewBox=\"0 0 24 24\"\n",
              "       width=\"24px\">\n",
              "    <path d=\"M0 0h24v24H0V0z\" fill=\"none\"/>\n",
              "    <path d=\"M18.56 5.44l.94 2.06.94-2.06 2.06-.94-2.06-.94-.94-2.06-.94 2.06-2.06.94zm-11 1L8.5 8.5l.94-2.06 2.06-.94-2.06-.94L8.5 2.5l-.94 2.06-2.06.94zm10 10l.94 2.06.94-2.06 2.06-.94-2.06-.94-.94-2.06-.94 2.06-2.06.94z\"/><path d=\"M17.41 7.96l-1.37-1.37c-.4-.4-.92-.59-1.43-.59-.52 0-1.04.2-1.43.59L10.3 9.45l-7.72 7.72c-.78.78-.78 2.05 0 2.83L4 21.41c.39.39.9.59 1.41.59.51 0 1.02-.2 1.41-.59l7.78-7.78 2.81-2.81c.8-.78.8-2.07 0-2.86zM5.41 20L4 18.59l7.72-7.72 1.47 1.35L5.41 20z\"/>\n",
              "  </svg>\n",
              "      </button>\n",
              "      \n",
              "  <style>\n",
              "    .colab-df-container {\n",
              "      display:flex;\n",
              "      flex-wrap:wrap;\n",
              "      gap: 12px;\n",
              "    }\n",
              "\n",
              "    .colab-df-convert {\n",
              "      background-color: #E8F0FE;\n",
              "      border: none;\n",
              "      border-radius: 50%;\n",
              "      cursor: pointer;\n",
              "      display: none;\n",
              "      fill: #1967D2;\n",
              "      height: 32px;\n",
              "      padding: 0 0 0 0;\n",
              "      width: 32px;\n",
              "    }\n",
              "\n",
              "    .colab-df-convert:hover {\n",
              "      background-color: #E2EBFA;\n",
              "      box-shadow: 0px 1px 2px rgba(60, 64, 67, 0.3), 0px 1px 3px 1px rgba(60, 64, 67, 0.15);\n",
              "      fill: #174EA6;\n",
              "    }\n",
              "\n",
              "    [theme=dark] .colab-df-convert {\n",
              "      background-color: #3B4455;\n",
              "      fill: #D2E3FC;\n",
              "    }\n",
              "\n",
              "    [theme=dark] .colab-df-convert:hover {\n",
              "      background-color: #434B5C;\n",
              "      box-shadow: 0px 1px 3px 1px rgba(0, 0, 0, 0.15);\n",
              "      filter: drop-shadow(0px 1px 2px rgba(0, 0, 0, 0.3));\n",
              "      fill: #FFFFFF;\n",
              "    }\n",
              "  </style>\n",
              "\n",
              "      <script>\n",
              "        const buttonEl =\n",
              "          document.querySelector('#df-57c528ca-b0c1-4509-aa48-0ef9418c9f60 button.colab-df-convert');\n",
              "        buttonEl.style.display =\n",
              "          google.colab.kernel.accessAllowed ? 'block' : 'none';\n",
              "\n",
              "        async function convertToInteractive(key) {\n",
              "          const element = document.querySelector('#df-57c528ca-b0c1-4509-aa48-0ef9418c9f60');\n",
              "          const dataTable =\n",
              "            await google.colab.kernel.invokeFunction('convertToInteractive',\n",
              "                                                     [key], {});\n",
              "          if (!dataTable) return;\n",
              "\n",
              "          const docLinkHtml = 'Like what you see? Visit the ' +\n",
              "            '<a target=\"_blank\" href=https://colab.research.google.com/notebooks/data_table.ipynb>data table notebook</a>'\n",
              "            + ' to learn more about interactive tables.';\n",
              "          element.innerHTML = '';\n",
              "          dataTable['output_type'] = 'display_data';\n",
              "          await google.colab.output.renderOutput(dataTable, element);\n",
              "          const docLink = document.createElement('div');\n",
              "          docLink.innerHTML = docLinkHtml;\n",
              "          element.appendChild(docLink);\n",
              "        }\n",
              "      </script>\n",
              "    </div>\n",
              "  </div>\n",
              "  "
            ]
          },
          "metadata": {},
          "execution_count": 12
        }
      ]
    },
    {
      "cell_type": "code",
      "source": [
        "data.describe()"
      ],
      "metadata": {
        "id": "8n8V_kiRyYlU",
        "colab": {
          "base_uri": "https://localhost:8080/",
          "height": 364
        },
        "outputId": "a031095e-e5f0-4ab2-8d7b-d3f68f22471b"
      },
      "execution_count": 13,
      "outputs": [
        {
          "output_type": "execute_result",
          "data": {
            "text/plain": [
              "         Distancia   Eje_mayor      Diametro  Inclinacion  Eje_Mayor_nan_mu  \\\n",
              "count   323.000000  322.000000    239.000000   313.000000        323.000000   \n",
              "mean    189.442601    4.419929    583.113556    54.144728          4.419929   \n",
              "std     301.034245    9.916898   1677.250776    24.366221          9.901487   \n",
              "min       3.220000    0.032000      3.800000     0.000000          0.032000   \n",
              "25%      91.200000    0.512250    140.000000    36.000000          0.514500   \n",
              "50%     140.000000    1.400000    240.000000    57.000000          1.400000   \n",
              "75%     155.000000    4.300000    440.000000    75.000000          4.350000   \n",
              "max    3500.000000  140.000000  19800.000000   104.000000        140.000000   \n",
              "\n",
              "       Eje_Mayor_med   Diametro_mu  Diametro_med  Inclinacion_mu  \\\n",
              "count     323.000000    323.000000    323.000000      323.000000   \n",
              "mean        4.410579    583.113556    493.882786       54.144728   \n",
              "std         9.902913   1441.977700   1449.835921       23.984880   \n",
              "min         0.032000      3.800000      3.800000        0.000000   \n",
              "25%         0.514500    180.500000    180.500000       37.000000   \n",
              "50%         1.400000    348.000000    240.000000       54.200000   \n",
              "75%         4.300000    583.113556    333.100000       75.000000   \n",
              "max       140.000000  19800.000000  19800.000000      104.000000   \n",
              "\n",
              "       Inclinacion_med  \n",
              "count       323.000000  \n",
              "mean         54.233127  \n",
              "std          23.989994  \n",
              "min           0.000000  \n",
              "25%          37.000000  \n",
              "50%          57.000000  \n",
              "75%          75.000000  \n",
              "max         104.000000  "
            ],
            "text/html": [
              "\n",
              "  <div id=\"df-f293a2d4-a7a8-44f4-9d93-ec3449d56619\">\n",
              "    <div class=\"colab-df-container\">\n",
              "      <div>\n",
              "<style scoped>\n",
              "    .dataframe tbody tr th:only-of-type {\n",
              "        vertical-align: middle;\n",
              "    }\n",
              "\n",
              "    .dataframe tbody tr th {\n",
              "        vertical-align: top;\n",
              "    }\n",
              "\n",
              "    .dataframe thead th {\n",
              "        text-align: right;\n",
              "    }\n",
              "</style>\n",
              "<table border=\"1\" class=\"dataframe\">\n",
              "  <thead>\n",
              "    <tr style=\"text-align: right;\">\n",
              "      <th></th>\n",
              "      <th>Distancia</th>\n",
              "      <th>Eje_mayor</th>\n",
              "      <th>Diametro</th>\n",
              "      <th>Inclinacion</th>\n",
              "      <th>Eje_Mayor_nan_mu</th>\n",
              "      <th>Eje_Mayor_med</th>\n",
              "      <th>Diametro_mu</th>\n",
              "      <th>Diametro_med</th>\n",
              "      <th>Inclinacion_mu</th>\n",
              "      <th>Inclinacion_med</th>\n",
              "    </tr>\n",
              "  </thead>\n",
              "  <tbody>\n",
              "    <tr>\n",
              "      <th>count</th>\n",
              "      <td>323.000000</td>\n",
              "      <td>322.000000</td>\n",
              "      <td>239.000000</td>\n",
              "      <td>313.000000</td>\n",
              "      <td>323.000000</td>\n",
              "      <td>323.000000</td>\n",
              "      <td>323.000000</td>\n",
              "      <td>323.000000</td>\n",
              "      <td>323.000000</td>\n",
              "      <td>323.000000</td>\n",
              "    </tr>\n",
              "    <tr>\n",
              "      <th>mean</th>\n",
              "      <td>189.442601</td>\n",
              "      <td>4.419929</td>\n",
              "      <td>583.113556</td>\n",
              "      <td>54.144728</td>\n",
              "      <td>4.419929</td>\n",
              "      <td>4.410579</td>\n",
              "      <td>583.113556</td>\n",
              "      <td>493.882786</td>\n",
              "      <td>54.144728</td>\n",
              "      <td>54.233127</td>\n",
              "    </tr>\n",
              "    <tr>\n",
              "      <th>std</th>\n",
              "      <td>301.034245</td>\n",
              "      <td>9.916898</td>\n",
              "      <td>1677.250776</td>\n",
              "      <td>24.366221</td>\n",
              "      <td>9.901487</td>\n",
              "      <td>9.902913</td>\n",
              "      <td>1441.977700</td>\n",
              "      <td>1449.835921</td>\n",
              "      <td>23.984880</td>\n",
              "      <td>23.989994</td>\n",
              "    </tr>\n",
              "    <tr>\n",
              "      <th>min</th>\n",
              "      <td>3.220000</td>\n",
              "      <td>0.032000</td>\n",
              "      <td>3.800000</td>\n",
              "      <td>0.000000</td>\n",
              "      <td>0.032000</td>\n",
              "      <td>0.032000</td>\n",
              "      <td>3.800000</td>\n",
              "      <td>3.800000</td>\n",
              "      <td>0.000000</td>\n",
              "      <td>0.000000</td>\n",
              "    </tr>\n",
              "    <tr>\n",
              "      <th>25%</th>\n",
              "      <td>91.200000</td>\n",
              "      <td>0.512250</td>\n",
              "      <td>140.000000</td>\n",
              "      <td>36.000000</td>\n",
              "      <td>0.514500</td>\n",
              "      <td>0.514500</td>\n",
              "      <td>180.500000</td>\n",
              "      <td>180.500000</td>\n",
              "      <td>37.000000</td>\n",
              "      <td>37.000000</td>\n",
              "    </tr>\n",
              "    <tr>\n",
              "      <th>50%</th>\n",
              "      <td>140.000000</td>\n",
              "      <td>1.400000</td>\n",
              "      <td>240.000000</td>\n",
              "      <td>57.000000</td>\n",
              "      <td>1.400000</td>\n",
              "      <td>1.400000</td>\n",
              "      <td>348.000000</td>\n",
              "      <td>240.000000</td>\n",
              "      <td>54.200000</td>\n",
              "      <td>57.000000</td>\n",
              "    </tr>\n",
              "    <tr>\n",
              "      <th>75%</th>\n",
              "      <td>155.000000</td>\n",
              "      <td>4.300000</td>\n",
              "      <td>440.000000</td>\n",
              "      <td>75.000000</td>\n",
              "      <td>4.350000</td>\n",
              "      <td>4.300000</td>\n",
              "      <td>583.113556</td>\n",
              "      <td>333.100000</td>\n",
              "      <td>75.000000</td>\n",
              "      <td>75.000000</td>\n",
              "    </tr>\n",
              "    <tr>\n",
              "      <th>max</th>\n",
              "      <td>3500.000000</td>\n",
              "      <td>140.000000</td>\n",
              "      <td>19800.000000</td>\n",
              "      <td>104.000000</td>\n",
              "      <td>140.000000</td>\n",
              "      <td>140.000000</td>\n",
              "      <td>19800.000000</td>\n",
              "      <td>19800.000000</td>\n",
              "      <td>104.000000</td>\n",
              "      <td>104.000000</td>\n",
              "    </tr>\n",
              "  </tbody>\n",
              "</table>\n",
              "</div>\n",
              "      <button class=\"colab-df-convert\" onclick=\"convertToInteractive('df-f293a2d4-a7a8-44f4-9d93-ec3449d56619')\"\n",
              "              title=\"Convert this dataframe to an interactive table.\"\n",
              "              style=\"display:none;\">\n",
              "        \n",
              "  <svg xmlns=\"http://www.w3.org/2000/svg\" height=\"24px\"viewBox=\"0 0 24 24\"\n",
              "       width=\"24px\">\n",
              "    <path d=\"M0 0h24v24H0V0z\" fill=\"none\"/>\n",
              "    <path d=\"M18.56 5.44l.94 2.06.94-2.06 2.06-.94-2.06-.94-.94-2.06-.94 2.06-2.06.94zm-11 1L8.5 8.5l.94-2.06 2.06-.94-2.06-.94L8.5 2.5l-.94 2.06-2.06.94zm10 10l.94 2.06.94-2.06 2.06-.94-2.06-.94-.94-2.06-.94 2.06-2.06.94z\"/><path d=\"M17.41 7.96l-1.37-1.37c-.4-.4-.92-.59-1.43-.59-.52 0-1.04.2-1.43.59L10.3 9.45l-7.72 7.72c-.78.78-.78 2.05 0 2.83L4 21.41c.39.39.9.59 1.41.59.51 0 1.02-.2 1.41-.59l7.78-7.78 2.81-2.81c.8-.78.8-2.07 0-2.86zM5.41 20L4 18.59l7.72-7.72 1.47 1.35L5.41 20z\"/>\n",
              "  </svg>\n",
              "      </button>\n",
              "      \n",
              "  <style>\n",
              "    .colab-df-container {\n",
              "      display:flex;\n",
              "      flex-wrap:wrap;\n",
              "      gap: 12px;\n",
              "    }\n",
              "\n",
              "    .colab-df-convert {\n",
              "      background-color: #E8F0FE;\n",
              "      border: none;\n",
              "      border-radius: 50%;\n",
              "      cursor: pointer;\n",
              "      display: none;\n",
              "      fill: #1967D2;\n",
              "      height: 32px;\n",
              "      padding: 0 0 0 0;\n",
              "      width: 32px;\n",
              "    }\n",
              "\n",
              "    .colab-df-convert:hover {\n",
              "      background-color: #E2EBFA;\n",
              "      box-shadow: 0px 1px 2px rgba(60, 64, 67, 0.3), 0px 1px 3px 1px rgba(60, 64, 67, 0.15);\n",
              "      fill: #174EA6;\n",
              "    }\n",
              "\n",
              "    [theme=dark] .colab-df-convert {\n",
              "      background-color: #3B4455;\n",
              "      fill: #D2E3FC;\n",
              "    }\n",
              "\n",
              "    [theme=dark] .colab-df-convert:hover {\n",
              "      background-color: #434B5C;\n",
              "      box-shadow: 0px 1px 3px 1px rgba(0, 0, 0, 0.15);\n",
              "      filter: drop-shadow(0px 1px 2px rgba(0, 0, 0, 0.3));\n",
              "      fill: #FFFFFF;\n",
              "    }\n",
              "  </style>\n",
              "\n",
              "      <script>\n",
              "        const buttonEl =\n",
              "          document.querySelector('#df-f293a2d4-a7a8-44f4-9d93-ec3449d56619 button.colab-df-convert');\n",
              "        buttonEl.style.display =\n",
              "          google.colab.kernel.accessAllowed ? 'block' : 'none';\n",
              "\n",
              "        async function convertToInteractive(key) {\n",
              "          const element = document.querySelector('#df-f293a2d4-a7a8-44f4-9d93-ec3449d56619');\n",
              "          const dataTable =\n",
              "            await google.colab.kernel.invokeFunction('convertToInteractive',\n",
              "                                                     [key], {});\n",
              "          if (!dataTable) return;\n",
              "\n",
              "          const docLinkHtml = 'Like what you see? Visit the ' +\n",
              "            '<a target=\"_blank\" href=https://colab.research.google.com/notebooks/data_table.ipynb>data table notebook</a>'\n",
              "            + ' to learn more about interactive tables.';\n",
              "          element.innerHTML = '';\n",
              "          dataTable['output_type'] = 'display_data';\n",
              "          await google.colab.output.renderOutput(dataTable, element);\n",
              "          const docLink = document.createElement('div');\n",
              "          docLink.innerHTML = docLinkHtml;\n",
              "          element.appendChild(docLink);\n",
              "        }\n",
              "      </script>\n",
              "    </div>\n",
              "  </div>\n",
              "  "
            ]
          },
          "metadata": {},
          "execution_count": 13
        }
      ]
    },
    {
      "cell_type": "markdown",
      "source": [
        "Comprobamos si ya no hay datos faltantes en las nuevas columnas:\n",
        "\n",
        "\n"
      ],
      "metadata": {
        "id": "0l1t7zp8EqvV"
      }
    },
    {
      "cell_type": "code",
      "source": [
        "data.info()"
      ],
      "metadata": {
        "id": "KWQgr8z2cWSo",
        "colab": {
          "base_uri": "https://localhost:8080/"
        },
        "outputId": "9e7e67ed-4269-4376-9b8d-659f9dd5f368"
      },
      "execution_count": 14,
      "outputs": [
        {
          "output_type": "stream",
          "name": "stdout",
          "text": [
            "<class 'pandas.core.frame.DataFrame'>\n",
            "RangeIndex: 323 entries, 0 to 322\n",
            "Data columns (total 11 columns):\n",
            " #   Column            Non-Null Count  Dtype  \n",
            "---  ------            --------------  -----  \n",
            " 0   Categoría         319 non-null    object \n",
            " 1   Distancia         323 non-null    float64\n",
            " 2   Eje_mayor         322 non-null    float64\n",
            " 3   Diametro          239 non-null    float64\n",
            " 4   Inclinacion       313 non-null    float64\n",
            " 5   Eje_Mayor_nan_mu  323 non-null    float64\n",
            " 6   Eje_Mayor_med     323 non-null    float64\n",
            " 7   Diametro_mu       323 non-null    float64\n",
            " 8   Diametro_med      323 non-null    float64\n",
            " 9   Inclinacion_mu    323 non-null    float64\n",
            " 10  Inclinacion_med   323 non-null    float64\n",
            "dtypes: float64(10), object(1)\n",
            "memory usage: 27.9+ KB\n"
          ]
        }
      ]
    },
    {
      "cell_type": "markdown",
      "source": [
        "Haciendo el resumen anterior notamos que ya no hay datos faltantes."
      ],
      "metadata": {
        "id": "v19NsONE35Lc"
      }
    },
    {
      "cell_type": "markdown",
      "source": [
        "##Análisis global"
      ],
      "metadata": {
        "id": "Q_oSSBd6zLvI"
      }
    },
    {
      "cell_type": "code",
      "source": [
        "# ¿Cuántas categorias únicas hay?\n",
        "data.Categoría.nunique()"
      ],
      "metadata": {
        "colab": {
          "base_uri": "https://localhost:8080/"
        },
        "id": "JZ5u1mdAydqY",
        "outputId": "80471f51-ef5d-4721-8d33-788efb8df57d"
      },
      "execution_count": 15,
      "outputs": [
        {
          "output_type": "execute_result",
          "data": {
            "text/plain": [
              "10"
            ]
          },
          "metadata": {},
          "execution_count": 15
        }
      ]
    },
    {
      "cell_type": "code",
      "source": [
        "# ¿Cual es la frecuencia de cada categoria en los datos?\n",
        "data.Categoría.value_counts()"
      ],
      "metadata": {
        "colab": {
          "base_uri": "https://localhost:8080/"
        },
        "id": "4LCF5bfCylYz",
        "outputId": "5d07eb2c-3e8d-441b-cbb2-3dbfb363d07d"
      },
      "execution_count": 16,
      "outputs": [
        {
          "output_type": "execute_result",
          "data": {
            "text/plain": [
              "Debris    103\n",
              "TT         97\n",
              "YSO        57\n",
              "UC         37\n",
              "HAe        18\n",
              "Trans       3\n",
              "YSO?        1\n",
              "HBe         1\n",
              "PPN         1\n",
              "wTT         1\n",
              "Name: Categoría, dtype: int64"
            ]
          },
          "metadata": {},
          "execution_count": 16
        }
      ]
    },
    {
      "cell_type": "markdown",
      "source": [
        "En el análisis global se realizaron graficas de tipo boxplot para cada una de las variables cuantitativas. Los resultados se muestran a continuación."
      ],
      "metadata": {
        "id": "GYvYGFNtts5W"
      }
    },
    {
      "cell_type": "code",
      "source": [
        "fig, axes = plt.subplots(1,3, figsize=(18, 9), sharey=True)\n",
        "data['Diametro'].plot(kind='box', ax=axes[0])\n",
        "data['Diametro_med'].plot(kind='box',ax=axes[1])\n",
        "data['Diametro_mu'].plot(kind='box',ax=axes[2])\n",
        "axes[0].grid('on', which='major')\n",
        "axes[1].grid('on', which='major')\n",
        "axes[2].grid('on', which='major')"
      ],
      "metadata": {
        "colab": {
          "base_uri": "https://localhost:8080/",
          "height": 490
        },
        "id": "O3qvQy-kt9fu",
        "outputId": "16308c66-8bb7-435b-ef78-7aa612cb5614"
      },
      "execution_count": 17,
      "outputs": [
        {
          "output_type": "display_data",
          "data": {
            "text/plain": [
              "<Figure size 1800x900 with 3 Axes>"
            ],
            "image/png": "[encoded data removed]"
          },
          "metadata": {}
        }
      ]
    },
    {
      "cell_type": "code",
      "source": [
        "fig, axes = plt.subplots(1,3, figsize=(18, 9), sharey=True)\n",
        "data['Eje_mayor'].plot(kind='box', ax=axes[0])\n",
        "data['Eje_Mayor_med'].plot(kind='box',ax=axes[1])\n",
        "data['Eje_Mayor_nan_mu'].plot(kind='box',ax=axes[2])\n",
        "axes[0].grid('on', which='major')\n",
        "axes[1].grid('on', which='major')\n",
        "axes[2].grid('on', which='major')"
      ],
      "metadata": {
        "colab": {
          "base_uri": "https://localhost:8080/",
          "height": 495
        },
        "id": "SV-1pT2Yuwcs",
        "outputId": "0639803f-103f-436c-d187-ae5b617ea63e"
      },
      "execution_count": 18,
      "outputs": [
        {
          "output_type": "display_data",
          "data": {
            "text/plain": [
              "<Figure size 1800x900 with 3 Axes>"
            ],
            "image/png": "[encoded data removed]"
          },
          "metadata": {}
        }
      ]
    },
    {
      "cell_type": "code",
      "source": [
        "fig, axes = plt.subplots(1,3, figsize=(18, 9), sharey=True)\n",
        "data['Inclinacion'].plot(kind='box', ax=axes[0])\n",
        "data['Inclinacion_med'].plot(kind='box',ax=axes[1])\n",
        "data['Inclinacion_mu'].plot(kind='box',ax=axes[2])\n",
        "axes[0].grid('on', which='major')\n",
        "axes[1].grid('on', which='major')\n",
        "axes[2].grid('on', which='major')"
      ],
      "metadata": {
        "colab": {
          "base_uri": "https://localhost:8080/",
          "height": 495
        },
        "id": "F-9tfiaFvY4o",
        "outputId": "7dfc3844-ecfd-4b04-9d80-e0971bbfd444"
      },
      "execution_count": 19,
      "outputs": [
        {
          "output_type": "display_data",
          "data": {
            "text/plain": [
              "<Figure size 1800x900 with 3 Axes>"
            ],
            "image/png": "[encoded data removed]"
          },
          "metadata": {}
        }
      ]
    },
    {
      "cell_type": "markdown",
      "source": [
        "Estos no son los box plot que tenia pensado hacer, es poco pero es trabajo honesto.\n",
        "Observamos como se modifican las graficas al sustituir los valores faltantes, las diferencias son muy pocas.\n",
        "Queria graficar para cada categoria (10) los tres boxplot correspondientes a Inclinación, Eje mayor y Diametro. Pero no supe filtrar estos datos correctamente."
      ],
      "metadata": {
        "id": "sQYlkgwV7PXe"
      }
    },
    {
      "cell_type": "code",
      "source": [],
      "metadata": {
        "id": "An-LwsDj4efK"
      },
      "execution_count": 19,
      "outputs": []
    },
    {
      "cell_type": "markdown",
      "source": [
        "Finalmente, realizamos los histogramas de estas variables cuantitativas para obsrevar como se distribuyen. Para el diametro y el eje mayor es evidente que los datos están concentrados en un valor y siguen una distribución parecida a la de Poisson (son las poblaciones). Mientras que para la inclinación tenemos una distribución uniforme entre 20 y 80 grados, lo que nos podria indicar que la manera en que se esta observando u obteniendo estos datos nos impide obtener muchas mediciones fuera de este rango y favorece estos valores para la inclinación."
      ],
      "metadata": {
        "id": "WmtLUr7zgmjO"
      }
    },
    {
      "cell_type": "code",
      "source": [
        "sns.histplot(data=data, x=\"Diametro\", kde=True, bins=50, discrete=False, color='#36a98b')\n"
      ],
      "metadata": {
        "colab": {
          "base_uri": "https://localhost:8080/",
          "height": 466
        },
        "id": "7b77HUDxvp3g",
        "outputId": "91934a15-fc16-4b72-c86f-cd92798db769"
      },
      "execution_count": 20,
      "outputs": [
        {
          "output_type": "execute_result",
          "data": {
            "text/plain": [
              "<Axes: xlabel='Diametro', ylabel='Count'>"
            ]
          },
          "metadata": {},
          "execution_count": 20
        },
        {
          "output_type": "display_data",
          "data": {
            "text/plain": [
              "<Figure size 640x480 with 1 Axes>"
            ],
            "image/png": "[encoded data removed]"
          },
          "metadata": {}
        }
      ]
    },
    {
      "cell_type": "code",
      "source": [
        "sns.histplot(data=data, x=\"Eje_mayor\", kde=True, bins=50, discrete=False, color='#36a98b')\n"
      ],
      "metadata": {
        "colab": {
          "base_uri": "https://localhost:8080/",
          "height": 467
        },
        "id": "C68I-CuH4K77",
        "outputId": "1fa3ebcb-996d-4026-ec6d-c22022c53214"
      },
      "execution_count": 21,
      "outputs": [
        {
          "output_type": "execute_result",
          "data": {
            "text/plain": [
              "<Axes: xlabel='Eje_mayor', ylabel='Count'>"
            ]
          },
          "metadata": {},
          "execution_count": 21
        },
        {
          "output_type": "display_data",
          "data": {
            "text/plain": [
              "<Figure size 640x480 with 1 Axes>"
            ],
            "image/png": "[encoded data removed]"
          },
          "metadata": {}
        }
      ]
    },
    {
      "cell_type": "code",
      "source": [],
      "metadata": {
        "id": "ZL2ES78JgOxM"
      },
      "execution_count": null,
      "outputs": []
    },
    {
      "cell_type": "code",
      "source": [],
      "metadata": {
        "id": "wkTNG0xGgbQK"
      },
      "execution_count": null,
      "outputs": []
    },
    {
      "cell_type": "code",
      "source": [
        "sns.histplot(data=data, x=\"Inclinacion\", kde=True, bins=20, discrete=False, color='#36a98b')\n"
      ],
      "metadata": {
        "colab": {
          "base_uri": "https://localhost:8080/",
          "height": 466
        },
        "id": "ru7C5K9H6IlY",
        "outputId": "240c4b69-a8bf-4ca9-ad76-be59a6b572e3"
      },
      "execution_count": 25,
      "outputs": [
        {
          "output_type": "execute_result",
          "data": {
            "text/plain": [
              "<Axes: xlabel='Inclinacion', ylabel='Count'>"
            ]
          },
          "metadata": {},
          "execution_count": 25
        },
        {
          "output_type": "display_data",
          "data": {
            "text/plain": [
              "<Figure size 640x480 with 1 Axes>"
            ],
            "image/png": "[encoded data removed]"
          },
          "metadata": {}
        }
      ]
    },
    {
      "cell_type": "code",
      "source": [],
      "metadata": {
        "id": "wj_QW_RP6ZJv"
      },
      "execution_count": 22,
      "outputs": []
    }
  ]
}