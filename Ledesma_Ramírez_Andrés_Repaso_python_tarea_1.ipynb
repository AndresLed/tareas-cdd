{
  "cells": [
    {
      "cell_type": "markdown",
      "id": "5460c487",
      "metadata": {
        "id": "5460c487"
      },
      "source": [
        "## Tarea 1: Repaso de los conceptos básicos de Python\n",
        "### Ciencia de datos para físicos: Facultad de ciencias, UNAM\n",
        "#### Profesores: Karen Rubí Jiménez-López, Pedro Arturo Flores-Silva\n",
        "\n",
        "**Instrucciones:** Este notebook contiene una serie de ejercicios que deben ser resueltos. Cada ejercicio se encuentra en una celda, ya sea de código o Markdown. Debes crear una o dos *celdas debajo de cada ejercicio* con tu(s) respectiva(s) respuestas. No modifiques las celdas originales.\n",
        "\n",
        "Recuerda que para ejecutar el código de una celda, presionar `Ctlr + Enter` o bien el boton de `play` en el editor Jupyter notebook.\n",
        "\n",
        "Cada ejercicio tendrá diferente valor, y se indicará en la celda de éste. La calificación final será la suma de los puntos obtenidos en cada ejercicio. Se calificará considerando la calidad de la respuesta, la claridad de la explicación y la correctitud del código. Por ejemplo, si el código no ejecuta la respuesta correcta pero se da una idea textual, se demuestra que hay comprensión del problema y el código hace sentido para el revisor, se otorgará una calificación parcial. Esto es, las respuestas no solo se evaluarán como bien o mal, sino que se considerará el esfuerzo.\n",
        "\n",
        "El codigo que realices debes comentarlo donde creas necesario, no vale no hacer ningún comentario. Recuerda que los comentarios son importantes para que el código sea legible y entendible, éstos se agregan con el símbolo #. Para las funciones y/o clases que crees, agrega la documentación correspondiente (docstring), éste se agrega con `\"\"\" docstring \"\"\"`."
      ]
    },
    {
      "cell_type": "markdown",
      "id": "66df713a",
      "metadata": {
        "id": "66df713a"
      },
      "source": [
        "### Ejercicio 1 (1 punto):\n",
        "En una celda Markdown contesta: \n",
        "* ¿Qué es una palabra reservada en python? Enlista 5 ejemplos de nombres reservados en python y describe su función.\n",
        "* Coloca tres ejemplos de nombres de variables que no son válidos en python. Explica por qué no son válidos."
      ]
    },
    {
      "cell_type": "markdown",
      "source": [
        "Una palabra reservada en python es una palabra que el lenguaje ya utiliza para realizar alguna acción por lo que están reservadas exclusivamente para este uso:\n",
        "\n",
        "|Nombre|Función|\n",
        "|:----:|:----:|\n",
        "| False| Denota el valor booleano Falso | \n",
        "| import|Denota la función para importar librearias, paqueterias al codigo y poder utilizar sus funciones| \n",
        "|if|Indica una condición que permite continuar la ejecución del codigo | \n",
        "\n",
        "Algunos nombres de variables no válidos en python son:\n",
        "\n",
        "* ``edad+1``\n",
        "* ``edad*1``\n",
        "* ``edad/1``\n",
        "\n",
        "Estos nombres no son válidos porque contienen símbolos designados a operaciones entre variables, se puede tener una variable llamada \"edad\" a la que se le aplicarian estas operaciones; +1 sumar 1, *1 multiplicar por 1 y /1 dividir entre uno.\n"
      ],
      "metadata": {
        "id": "Xd2aRtzaXvk_"
      },
      "id": "Xd2aRtzaXvk_"
    },
    {
      "cell_type": "markdown",
      "id": "8f4fd89b",
      "metadata": {
        "id": "8f4fd89b"
      },
      "source": [
        "### Ejercicio 2 (1 punto):\n",
        "\n",
        "En una celda de código, escribe una función que encuentre las raíces de cualquier polinomio de segundo grado (implementar la chicharronera). En una celda markdown detalla posibles casos en la cual la función podría fallar.\n",
        "Usa dicha función para encontrar las raíces del polinomio $f(x) = 10x^2 - 2x$ e imprimelas en pantalla."
      ]
    },
    {
      "cell_type": "code",
      "source": [
        "def chicharron(a,b,c): #Comienza definiendo la función con su nombre y las variables de las que depende\n",
        "  d = b**2 - 4*a*c #definimos el discriminantes en la variable llamada d a partir de las variables que entran en la función\n",
        "  if d != 0: #indicamos una condición sobre el valor que toma \n",
        "    x1 = (-b + (d)**0.5)/(2*a) #si se cumple la condición calculamos las raices correspondiented\n",
        "    x2 = (-b - (d)**0.5)/(2*a)\n",
        "    print(\"Se tienen dos raices distintas\") #indicamos que tipo de solución se tiene\n",
        "    return x1, x2    #el programa devuelve los valores de las raices\n",
        "  else:#en otro caso para la condición \n",
        "    x=  (-b)/(2*a) #calculamos el valor de la raiz correspondiente\n",
        "    print(\"Se tienen dos raices iguales\") #indicamos el tipo de solución\n",
        "    return x #el programa nos devuelve ese valor\n",
        "raiz_1 , raiz_2= chicharron(10,-2,0) #definimos variables con los valores devueltos por la función para imprimirlos\n",
        "print(f\"La primer raíz es {raiz_1} y la segunda raíz es {raiz_2} del polinomio 10x^2 -2x = 0\") #imprimimos el resultado\n",
        "#raiz= chicharron(4,4,1)\n",
        "#print(f\"La raíz es {raiz}\") #caso de prueba para revisar el otro caso\n",
        "\n"
      ],
      "metadata": {
        "colab": {
          "base_uri": "https://localhost:8080/"
        },
        "id": "k7jrOFy56EGR",
        "outputId": "abba4c76-225f-443a-a114-442126079c9a"
      },
      "id": "k7jrOFy56EGR",
      "execution_count": null,
      "outputs": [
        {
          "output_type": "stream",
          "name": "stdout",
          "text": [
            "Se tienen dos raices distintas\n",
            "La primer raíz es 0.2 y la segunda raíz es 0.0 del polinomio 10x^2 -2x = 0\n"
          ]
        }
      ]
    },
    {
      "cell_type": "markdown",
      "id": "7610c62b",
      "metadata": {
        "id": "7610c62b"
      },
      "source": [
        "### Ejercicio 3 (1 punto):\n",
        "\n",
        "*Caida libre*: El gran Galileo Galilei subió la torre de Pisa para determinar el tiempo que tarda un objeto en caer desde una altura $H$ al suelo. Para ello, colocó un objeto de masa $m=100$ kg en la torre y lo dejó caer. El tiempo que tardó en caer fue $t=0.05616667$ minutos.\n",
        "\n",
        "Considerando que la aceleración de la gravedad es $g=9.8$ $\\frac{m}{s^2}$, escribe un programa que determine la altura de la torre de Pisa. El programa debe imprimir la altura en la pantalla.\n",
        "\n",
        "Recuerda que el movimiento de caída libre simplificado cumple la ecuación: $y(t) = H + vt - \\frac{1}{2}gt^2$."
      ]
    },
    {
      "cell_type": "code",
      "source": [
        "def caida(t): #definimos la función con su nombre y la variable de la que dependera, el tiempo\n",
        "  H=((9.8)*((t*60)**2))/2 #definimos la altura a partir de la variable que recibe la función\n",
        "  return H #nos devuelve el valor\n",
        "caida(0.05616667) #Utilizamos la función para resolver el problema y se imprime en la pantalla la respuesta"
      ],
      "metadata": {
        "colab": {
          "base_uri": "https://localhost:8080/"
        },
        "id": "82M0xleJ9dzk",
        "outputId": "de6aa600-e3dc-408e-ad3a-2f4acd53f362"
      },
      "id": "82M0xleJ9dzk",
      "execution_count": null,
      "outputs": [
        {
          "output_type": "execute_result",
          "data": {
            "text/plain": [
              "55.64881660520021"
            ]
          },
          "metadata": {},
          "execution_count": 7
        }
      ]
    },
    {
      "cell_type": "markdown",
      "id": "bf2d28e7",
      "metadata": {
        "id": "bf2d28e7"
      },
      "source": [
        "### Ejercicio 4 (1 punto):\n",
        "Crea una lista de números enteros del 0 al 99 : `lista = [0,1, 2, 3, 4, ... , 95, 96, 97, 98, 99]` (6 puntos menos si creas la lista manualmente).\n",
        " \n",
        "Escribe un programa que imprima en la pantalla una la lista que cumpla con las siguientes condiciones:\n",
        "* Los ultimos 10 elementos: debe imprimir lo siguiente `[90, 91, 92, 93, 94, 95, 96, 97, 98, 99]`.\n",
        "* Los primeros 11 elementos: debe imprimir lo siguiente `[0, 1, 2, 3, 4, 5, 6, 7, 8, 9, 10]`.\n",
        "* La serie de elementos de la lista que están entre 60 y 75: debe imprimir lo siguiente `[60, 61, 62, 63, 64, 65, 66, 67, 68, 69, 70, 71, 72, 73, 74, 75]`.\n",
        "* El número 50: debe imprimir lo siguiente `50`.\n",
        "\n",
        "Debes aplicar el concepto de *slicing* para resolver este ejercicio (notación de puntos `[:]`).\n",
        "\n",
        "Puntos menos si se crean listas nuevas para cada caso y/o se seleccionan manualmente los valores."
      ]
    },
    {
      "cell_type": "code",
      "source": [
        "lista=[] #Definimos una lista vacía\n",
        "for i in range(100): #un  ciclo for, iterando sobre los numero del 0 al 99 \n",
        "  lista.append(i) #añadimos los valores del iterador a la lista vacia para crear la lista solicitada\n",
        "print(lista) #imprimimos la lista\n",
        "print(lista[90:]) #imprimimos los valores de la lista desde la posición 90 hasta el final, los ultimos 10 elementos\n",
        "print(lista[:11]) #imprimimos los valores de la lista desde el inicio hasta la posición 11, los primeros 11 elementos\n",
        "print(lista[60:76])#imprimimos los valores de la lista desde la posición 60 hasta la 76, los elementos entre 60 y 75\n",
        "print(lista[50:51])#imprimimos el valor de la posición 50 a la 51, el numero 50\n",
        "print(50) #imprimimos el numero 50"
      ],
      "metadata": {
        "colab": {
          "base_uri": "https://localhost:8080/"
        },
        "id": "L2cmhuXqCnJ8",
        "outputId": "ed2d85cb-7ba5-4b57-e91c-1fe698327096"
      },
      "id": "L2cmhuXqCnJ8",
      "execution_count": 1,
      "outputs": [
        {
          "output_type": "stream",
          "name": "stdout",
          "text": [
            "[0, 1, 2, 3, 4, 5, 6, 7, 8, 9, 10, 11, 12, 13, 14, 15, 16, 17, 18, 19, 20, 21, 22, 23, 24, 25, 26, 27, 28, 29, 30, 31, 32, 33, 34, 35, 36, 37, 38, 39, 40, 41, 42, 43, 44, 45, 46, 47, 48, 49, 50, 51, 52, 53, 54, 55, 56, 57, 58, 59, 60, 61, 62, 63, 64, 65, 66, 67, 68, 69, 70, 71, 72, 73, 74, 75, 76, 77, 78, 79, 80, 81, 82, 83, 84, 85, 86, 87, 88, 89, 90, 91, 92, 93, 94, 95, 96, 97, 98, 99]\n",
            "[90, 91, 92, 93, 94, 95, 96, 97, 98, 99]\n",
            "[0, 1, 2, 3, 4, 5, 6, 7, 8, 9, 10]\n",
            "[60, 61, 62, 63, 64, 65, 66, 67, 68, 69, 70, 71, 72, 73, 74, 75]\n",
            "[50]\n",
            "50\n"
          ]
        }
      ]
    },
    {
      "cell_type": "markdown",
      "id": "ac5b94d8",
      "metadata": {
        "id": "ac5b94d8"
      },
      "source": [
        "### Ejercicio 5 (1 punto):\n",
        "Crea una lista de números enteros del 0 al 1000. A partir de dicha lista:\n",
        "* Guarda en una variable una lista con los números pares usando ciclos y condicionales. Imprime los últimos 10 elementos de la lista final.\n",
        "* Guarda en una variable una lista con los números impares usando listas comprensivas (comprehension list). Imprime los primeros 10 elementos de la lista final."
      ]
    },
    {
      "cell_type": "code",
      "source": [
        "lista=[i for i in range(1001)] #creamos la lista por comprensión con un cilco for iterando de 0 a 1000\n",
        "print(lista) #imprimimos la lista\n",
        "a=[] #creamos una lista vacia\n",
        "for elemento in lista: #iteramos sobre los elementos de la lista\n",
        "  if (elemento %2) == 0:#aplicamos la condición para saber si el elemento es par\n",
        "    a.append(elemento) #en caso de cumplir la condición lo añadimos a la lista vacía\n",
        "print(a[-10:]) #imprime los elementos de la lista de la posición -10 hasta el final, los ultimos 10 elementos de la lista\n",
        "b=[elemento for elemento in lista if (elemento%2) != 0  ] #creamos lista por comprensión interando sobre la primera lista aplicando la condición impar\n",
        "print(b[:10]) #imprime los elementos desde el inicio hasta la posición 10"
      ],
      "metadata": {
        "colab": {
          "base_uri": "https://localhost:8080/"
        },
        "id": "i3_c6xMtECWq",
        "outputId": "2f12f240-8332-4ab9-8e52-d2aef65ca804"
      },
      "id": "i3_c6xMtECWq",
      "execution_count": null,
      "outputs": [
        {
          "output_type": "stream",
          "name": "stdout",
          "text": [
            "[0, 1, 2, 3, 4, 5, 6, 7, 8, 9, 10, 11, 12, 13, 14, 15, 16, 17, 18, 19, 20, 21, 22, 23, 24, 25, 26, 27, 28, 29, 30, 31, 32, 33, 34, 35, 36, 37, 38, 39, 40, 41, 42, 43, 44, 45, 46, 47, 48, 49, 50, 51, 52, 53, 54, 55, 56, 57, 58, 59, 60, 61, 62, 63, 64, 65, 66, 67, 68, 69, 70, 71, 72, 73, 74, 75, 76, 77, 78, 79, 80, 81, 82, 83, 84, 85, 86, 87, 88, 89, 90, 91, 92, 93, 94, 95, 96, 97, 98, 99, 100, 101, 102, 103, 104, 105, 106, 107, 108, 109, 110, 111, 112, 113, 114, 115, 116, 117, 118, 119, 120, 121, 122, 123, 124, 125, 126, 127, 128, 129, 130, 131, 132, 133, 134, 135, 136, 137, 138, 139, 140, 141, 142, 143, 144, 145, 146, 147, 148, 149, 150, 151, 152, 153, 154, 155, 156, 157, 158, 159, 160, 161, 162, 163, 164, 165, 166, 167, 168, 169, 170, 171, 172, 173, 174, 175, 176, 177, 178, 179, 180, 181, 182, 183, 184, 185, 186, 187, 188, 189, 190, 191, 192, 193, 194, 195, 196, 197, 198, 199, 200, 201, 202, 203, 204, 205, 206, 207, 208, 209, 210, 211, 212, 213, 214, 215, 216, 217, 218, 219, 220, 221, 222, 223, 224, 225, 226, 227, 228, 229, 230, 231, 232, 233, 234, 235, 236, 237, 238, 239, 240, 241, 242, 243, 244, 245, 246, 247, 248, 249, 250, 251, 252, 253, 254, 255, 256, 257, 258, 259, 260, 261, 262, 263, 264, 265, 266, 267, 268, 269, 270, 271, 272, 273, 274, 275, 276, 277, 278, 279, 280, 281, 282, 283, 284, 285, 286, 287, 288, 289, 290, 291, 292, 293, 294, 295, 296, 297, 298, 299, 300, 301, 302, 303, 304, 305, 306, 307, 308, 309, 310, 311, 312, 313, 314, 315, 316, 317, 318, 319, 320, 321, 322, 323, 324, 325, 326, 327, 328, 329, 330, 331, 332, 333, 334, 335, 336, 337, 338, 339, 340, 341, 342, 343, 344, 345, 346, 347, 348, 349, 350, 351, 352, 353, 354, 355, 356, 357, 358, 359, 360, 361, 362, 363, 364, 365, 366, 367, 368, 369, 370, 371, 372, 373, 374, 375, 376, 377, 378, 379, 380, 381, 382, 383, 384, 385, 386, 387, 388, 389, 390, 391, 392, 393, 394, 395, 396, 397, 398, 399, 400, 401, 402, 403, 404, 405, 406, 407, 408, 409, 410, 411, 412, 413, 414, 415, 416, 417, 418, 419, 420, 421, 422, 423, 424, 425, 426, 427, 428, 429, 430, 431, 432, 433, 434, 435, 436, 437, 438, 439, 440, 441, 442, 443, 444, 445, 446, 447, 448, 449, 450, 451, 452, 453, 454, 455, 456, 457, 458, 459, 460, 461, 462, 463, 464, 465, 466, 467, 468, 469, 470, 471, 472, 473, 474, 475, 476, 477, 478, 479, 480, 481, 482, 483, 484, 485, 486, 487, 488, 489, 490, 491, 492, 493, 494, 495, 496, 497, 498, 499, 500, 501, 502, 503, 504, 505, 506, 507, 508, 509, 510, 511, 512, 513, 514, 515, 516, 517, 518, 519, 520, 521, 522, 523, 524, 525, 526, 527, 528, 529, 530, 531, 532, 533, 534, 535, 536, 537, 538, 539, 540, 541, 542, 543, 544, 545, 546, 547, 548, 549, 550, 551, 552, 553, 554, 555, 556, 557, 558, 559, 560, 561, 562, 563, 564, 565, 566, 567, 568, 569, 570, 571, 572, 573, 574, 575, 576, 577, 578, 579, 580, 581, 582, 583, 584, 585, 586, 587, 588, 589, 590, 591, 592, 593, 594, 595, 596, 597, 598, 599, 600, 601, 602, 603, 604, 605, 606, 607, 608, 609, 610, 611, 612, 613, 614, 615, 616, 617, 618, 619, 620, 621, 622, 623, 624, 625, 626, 627, 628, 629, 630, 631, 632, 633, 634, 635, 636, 637, 638, 639, 640, 641, 642, 643, 644, 645, 646, 647, 648, 649, 650, 651, 652, 653, 654, 655, 656, 657, 658, 659, 660, 661, 662, 663, 664, 665, 666, 667, 668, 669, 670, 671, 672, 673, 674, 675, 676, 677, 678, 679, 680, 681, 682, 683, 684, 685, 686, 687, 688, 689, 690, 691, 692, 693, 694, 695, 696, 697, 698, 699, 700, 701, 702, 703, 704, 705, 706, 707, 708, 709, 710, 711, 712, 713, 714, 715, 716, 717, 718, 719, 720, 721, 722, 723, 724, 725, 726, 727, 728, 729, 730, 731, 732, 733, 734, 735, 736, 737, 738, 739, 740, 741, 742, 743, 744, 745, 746, 747, 748, 749, 750, 751, 752, 753, 754, 755, 756, 757, 758, 759, 760, 761, 762, 763, 764, 765, 766, 767, 768, 769, 770, 771, 772, 773, 774, 775, 776, 777, 778, 779, 780, 781, 782, 783, 784, 785, 786, 787, 788, 789, 790, 791, 792, 793, 794, 795, 796, 797, 798, 799, 800, 801, 802, 803, 804, 805, 806, 807, 808, 809, 810, 811, 812, 813, 814, 815, 816, 817, 818, 819, 820, 821, 822, 823, 824, 825, 826, 827, 828, 829, 830, 831, 832, 833, 834, 835, 836, 837, 838, 839, 840, 841, 842, 843, 844, 845, 846, 847, 848, 849, 850, 851, 852, 853, 854, 855, 856, 857, 858, 859, 860, 861, 862, 863, 864, 865, 866, 867, 868, 869, 870, 871, 872, 873, 874, 875, 876, 877, 878, 879, 880, 881, 882, 883, 884, 885, 886, 887, 888, 889, 890, 891, 892, 893, 894, 895, 896, 897, 898, 899, 900, 901, 902, 903, 904, 905, 906, 907, 908, 909, 910, 911, 912, 913, 914, 915, 916, 917, 918, 919, 920, 921, 922, 923, 924, 925, 926, 927, 928, 929, 930, 931, 932, 933, 934, 935, 936, 937, 938, 939, 940, 941, 942, 943, 944, 945, 946, 947, 948, 949, 950, 951, 952, 953, 954, 955, 956, 957, 958, 959, 960, 961, 962, 963, 964, 965, 966, 967, 968, 969, 970, 971, 972, 973, 974, 975, 976, 977, 978, 979, 980, 981, 982, 983, 984, 985, 986, 987, 988, 989, 990, 991, 992, 993, 994, 995, 996, 997, 998, 999, 1000]\n",
            "[982, 984, 986, 988, 990, 992, 994, 996, 998, 1000]\n",
            "[1, 3, 5, 7, 9, 11, 13, 15, 17, 19]\n"
          ]
        }
      ]
    },
    {
      "cell_type": "markdown",
      "id": "00462693",
      "metadata": {
        "id": "00462693"
      },
      "source": [
        "### Ejercicio 6 (2 puntos): Aproximación de $\\pi$\n",
        "Una de las formas más sencillas de aproximar $\\pi$ es mediante la siguiente serie infinita de Leibniz:\n",
        "$$\\frac{\\pi}{4} = \\sum_{n=0}^{\\infty}\\frac{(-1)^{n}}{(2n+1)} = \\frac{1}{1} - \\frac{1}{3} + \\frac{1}{5}-\\frac{1}{7}+\\frac{1}{9}-...$$\n",
        "\n",
        "crea una función para aproximar $\\pi$ utilizando la serie de Leibniz. Usa n = 100000 e imprime el valor de tu aproximación tanto el valor de $\\frac{\\pi}{4}$ como $\\pi$.\n",
        "\n",
        "El valor de $\\pi$ se obtiene al despejar:\n",
        "$$\\pi = 4 * \\left(\\sum_{n=0}^{\\infty}\\frac{(-1)^{n}}{(2n+1)} \\right)$$\n",
        "\n",
        "La siguiente celda de codigo ofrece el valor de $\\frac{\\pi}{4}$"
      ]
    },
    {
      "cell_type": "code",
      "execution_count": null,
      "id": "a4a31d07",
      "metadata": {
        "id": "a4a31d07",
        "outputId": "2d3375d3-26e2-47d9-b9ec-f452e9a7246d"
      },
      "outputs": [
        {
          "name": "stdout",
          "output_type": "stream",
          "text": [
            "El valor de pi/4 es aproximadamente 0.7853981633974483\n"
          ]
        }
      ],
      "source": [
        "import numpy as np \n",
        "#El valor de pi/4\n",
        "print(\"El valor de pi/4 es aproximadamente {}\".format(np.pi/4))"
      ]
    },
    {
      "cell_type": "code",
      "source": [
        "def L(n): #definimos nuestra función \n",
        "  pi_4=0 #definimos una variable en cero que utilizara la función para calcular la serie\n",
        "  for i in range (n): #iteramos hasta el valor de n de la serie\n",
        "    pi_4+=((-1)**i) / ((2*i) +1) #aplicamos la formula para sumar los n elementos de la serie\n",
        "  return pi_4 #nos devuelve el valor obtenido\n",
        "aprox= L(100000) #deifnimos la aproximación con la función que calcula la serie hasta n=100000\n",
        "print(aprox) #imprimos el valor de la aproximación de pi/4 \n",
        "print(4*aprox) #imprimimos el valor de la aprpximación de pi a partir de la anterior"
      ],
      "metadata": {
        "colab": {
          "base_uri": "https://localhost:8080/"
        },
        "id": "PyPaw-AXH7L7",
        "outputId": "d578470e-d153-48fc-d31a-13e78d6efb28"
      },
      "id": "PyPaw-AXH7L7",
      "execution_count": null,
      "outputs": [
        {
          "output_type": "stream",
          "name": "stdout",
          "text": [
            "0.7853956633974299\n",
            "3.1415826535897198\n"
          ]
        }
      ]
    },
    {
      "cell_type": "markdown",
      "id": "d0c28e6e",
      "metadata": {
        "id": "d0c28e6e"
      },
      "source": [
        "### Ejercicio 7 (1 puntos): Identificador de vocales\n",
        "\n",
        "Escribe una función que reciba una cadena, por ejemplo 'el pErro de la tiA chOnita' y regrese la cantidad de vocales que contiene. La función debe contener varios casos de prueba, if, elif y else. Con la cadena de ejemplo, imprime en pantalla el resultado de la función (10).\n",
        "\n",
        "Para conocer si un caracter es una vocal, primero debes descomponer la cadena en caracteres individuales. Para ello observa el siguiente código:"
      ]
    },
    {
      "cell_type": "code",
      "execution_count": null,
      "id": "55a65e0f",
      "metadata": {
        "id": "55a65e0f",
        "outputId": "4f523a3b-f1df-4420-9356-44a9a0a3ea55",
        "colab": {
          "base_uri": "https://localhost:8080/"
        }
      },
      "outputs": [
        {
          "output_type": "stream",
          "name": "stdout",
          "text": [
            "['e', 'l', ' ', 'p', 'E', 'r', 'r', 'o', ' ', 'd', 'e', ' ', 'l', 'a', ' ', 't', 'i', 'A', ' ', 'c', 'h', 'O', 'n', 'i', 't', 'a']\n"
          ]
        }
      ],
      "source": [
        "# Divide una cadena en caracteres individuales\n",
        "cadena_prueba = 'el pErro de la tiA chOnita'\n",
        "caracteres_individuales = list(cadena_prueba)\n",
        "print(caracteres_individuales)"
      ]
    },
    {
      "cell_type": "code",
      "source": [
        "def cantidad(cadena_prueba): #definimos la función, indicando la variable que recibe es una cadena\n",
        "  n=0#iniciamos un contador en 0\n",
        "  caracteres_individuales=list(cadena_prueba) #dividiimos la cadena en caracteres individuales dentro de una lista\n",
        "  vocales= list('AaEeIiOoUu') #definimos una lista con todas la vocales mayusculas y minusculas\n",
        "  for caracter in caracteres_individuales: #iteramos sobre los elemenntos de la lista de caracteres individuales\n",
        "    if caracter in vocales: #aplicmaos a condición para saber si es una vocal o no\n",
        "      n+=1 #en caso de si ser una vocal, el contador aumenta su valor +1\n",
        "    else: #en caso de no ser vocal\n",
        "      n+=0 #el contador no aumenta su valor\n",
        "  return n #nos devuelve el valor final de n tras iterar sobre todos los caracteres individuales\n",
        "  print(n) #imprimimos el valor de n\n",
        "cantidad(cadena_prueba) #aplicamos la función a la cadena indicada"
      ],
      "metadata": {
        "colab": {
          "base_uri": "https://localhost:8080/"
        },
        "id": "4uEiT4DJQ9bU",
        "outputId": "ced8eb1a-0e13-435a-db9a-203b04a3e19c"
      },
      "id": "4uEiT4DJQ9bU",
      "execution_count": null,
      "outputs": [
        {
          "output_type": "execute_result",
          "data": {
            "text/plain": [
              "10"
            ]
          },
          "metadata": {},
          "execution_count": 43
        }
      ]
    },
    {
      "cell_type": "markdown",
      "id": "fb89fa24",
      "metadata": {
        "id": "fb89fa24"
      },
      "source": [
        "### Ejercicio 8 (2 puntos):\n",
        "\n",
        "Escribe una clase \"calculadora\" que regrese el resultado de las operaciones de suma, resta, multiplicacion, division, modulo y potencia. La clase debe contener un método para cada operación.\n",
        "\n",
        "Los métodos que pudiesen presentar errores como division entre cero, deben ser manejados de tal manera que el programa no imprima ningun error (vimos una clausula para hacer esto).\n",
        "\n",
        "Adicional a esto, los métodos modulo y potencia deben ser generales, es decir, deben funcionar para cualquier número entero positivo (es un parámetro extra del método). Por ejemplo, la potencia de 2 elevado a 3 es 8, la potencia de 5 elevado a 3 es 125, etc.\n",
        "\n",
        "Crea una instancia de la clase calculadora y prueba cada uno de los métodos, con valores de tu elección. Para los métodos que pudiesen presentar errores da dos ejemplos, uno totalmente funcional (3/5 por ejemplo) y otro que sea conflictivo pero que no regresa ningún error (4/0 por ejemplo)."
      ]
    },
    {
      "cell_type": "code",
      "source": [
        "class Calculadora():\n",
        "    \"\"\" Clase que representa una calculadora\n",
        "    \"\"\"\n",
        "    def __init__(self, marca):\n",
        "        \"\"\"Método constructor de la clase\n",
        "\n",
        "        Args:\n",
        "            marca (str): Marca de la calculadora\n",
        "        \"\"\"\n",
        "        self.marca = marca\n",
        "\n",
        "    def suma(self, a, b):\n",
        "        \"\"\"Método que suma dos números\n",
        "\n",
        "        Args:\n",
        "            a (number): Primer sumando\n",
        "            b (number): Segundo sumando\n",
        "\n",
        "        Returns:\n",
        "            number: Suma de a y b\n",
        "        \"\"\"\n",
        "        return a + b\n",
        "    \n",
        "    def resta(self, a, b):\n",
        "        \"\"\"Método que resta dos números\n",
        "\n",
        "        Args:\n",
        "            a (number): Primer numero \n",
        "            b (number): Segundo numero\n",
        "\n",
        "        Returns:\n",
        "            number: Resta de a y b\n",
        "        \"\"\"\n",
        "        return a - b\n",
        "\n",
        "    def multiplicacion(self, a, b):\n",
        "        \"\"\"Método que multiplica dos números\n",
        "\n",
        "        Args:\n",
        "            a (number): Primer elemento\n",
        "            b (number): Segundo elemento\n",
        "\n",
        "        Returns:\n",
        "            number: producto de a y b\n",
        "        \"\"\"\n",
        "        return a*b\n",
        "    \n",
        "    def division(self, a, b):\n",
        "        \"\"\"Método que divide dos números\n",
        "\n",
        "        Args:\n",
        "            a (number): numerador\n",
        "            b (number): denominador\n",
        "\n",
        "        Returns:\n",
        "            number: division de a y b o None si b es cero\n",
        "        \"\"\"\n",
        "        try:\n",
        "            return a/b\n",
        "        except:\n",
        "            print('Syntax error')\n",
        "            return None\n",
        "    \n",
        "    def potencia(self, a, b):\n",
        "        \"\"\"Método que eleva a a la potencia b\n",
        "\n",
        "        Args:\n",
        "            a (number): numero a elevar\n",
        "            b (number): potencia\n",
        "\n",
        "        Returns:\n",
        "            number: a^b\n",
        "        \"\"\"\n",
        "        return a**b\n",
        "    \n",
        "    def raiz(self, a):\n",
        "        \"\"\"Método que calcula la raiz cuadrada de un número\n",
        "        Args:\n",
        "            a (number): numero a obtener la raiz cuadrada\n",
        "\n",
        "        Returns:\n",
        "            number: a^0.5\n",
        "        \"\"\"\n",
        "        return a**0.5\n",
        "    def modulo(self, a, b):\n",
        "      \"\"\"Método que calcula el modulo de un número\n",
        "      Args: \n",
        "      a(number): numero a calcular el módulo\n",
        "      b(number): módulo\n",
        "\n",
        "      Returns:\n",
        "      number: a%b\n",
        "      \"\"\"\n",
        "      return a%b\n",
        "\n",
        "# Instanciamos una calculadora\n",
        "calculadora = Calculadora('Casio')"
      ],
      "metadata": {
        "id": "B_i74TIEunpx"
      },
      "id": "B_i74TIEunpx",
      "execution_count": null,
      "outputs": []
    },
    {
      "cell_type": "code",
      "source": [
        "print(calculadora.marca)\n",
        "print(calculadora.suma(2, 3))\n",
        "print(calculadora.resta(2, 3))\n",
        "print(calculadora.multiplicacion(2, 3))\n",
        "print(calculadora.division(2, 3))\n",
        "print(calculadora.potencia(2, 3))\n",
        "print(calculadora.raiz(2))\n",
        "print(calculadora.modulo(6,4))\n",
        "calculadora.division(2, 0)"
      ],
      "metadata": {
        "colab": {
          "base_uri": "https://localhost:8080/"
        },
        "id": "HOt4wqbfDiCx",
        "outputId": "048e2fe1-a49d-424e-b8e3-7771fc38f019"
      },
      "id": "HOt4wqbfDiCx",
      "execution_count": null,
      "outputs": [
        {
          "output_type": "stream",
          "name": "stdout",
          "text": [
            "Casio\n",
            "5\n",
            "-1\n",
            "6\n",
            "0.6666666666666666\n",
            "8\n",
            "1.4142135623730951\n",
            "2\n",
            "Syntax error\n"
          ]
        }
      ]
    },
    {
      "cell_type": "markdown",
      "id": "c6e4da53",
      "metadata": {
        "id": "c6e4da53"
      },
      "source": [
        "### Ejercicio de puntos extras opcional (1 punto):\n",
        "\n",
        "Supóngamos que tenemos una lista de números enteros y queremos encontrar el número más grande. Por ejemplo, si la lista es `[1, 2, 3, 4, 5]` el número más grande es 5. Crea una función que encuentre el número más grande en una lista de números. La función debe regresar el número más grande y el índice en el que se encuentra. Prueba la función con una lista de números de tu elección."
      ]
    },
    {
      "cell_type": "code",
      "source": [
        "def mayor(lista): #definimos la funci´n que busca el numero mayor a partir de una lista\n",
        "  max = lista[0] #definimos el valor mas alto arbitrariamente como el primer elemento de la lista\n",
        "  for x in lista: #iteramos sobre los elementos de la lista \n",
        "    if x > max: #comparando si lo elementos son mayores que el definido\n",
        "      max = x#definimos el valor más alto de nuevo como el elemento que cumplio la condición\n",
        "  return max #la función nos devuelve el valor que termino siendo el más alto\n",
        "mayor([1,4,10,6,8,3,5,7,9,0]) #aplicamos la función a una lista arbitraria"
      ],
      "metadata": {
        "id": "uPMj8ZqtTrqB",
        "colab": {
          "base_uri": "https://localhost:8080/"
        },
        "outputId": "84e0b98d-d270-4389-c1df-fbf2d84bf16a"
      },
      "id": "uPMj8ZqtTrqB",
      "execution_count": null,
      "outputs": [
        {
          "output_type": "execute_result",
          "data": {
            "text/plain": [
              "10"
            ]
          },
          "metadata": {},
          "execution_count": 24
        }
      ]
    },
    {
      "cell_type": "markdown",
      "id": "525883b3",
      "metadata": {
        "id": "525883b3"
      },
      "source": [
        "### Ejercicio de puntos extras opcional (3 puntos):\n",
        "\n",
        "Supóngamos que tenemos un dado convencional de 6 caras. Crea una función que simule el lanzamiento de un dado. La función debe regresar un número aleatorio entre 1 y 6.\n",
        "\n",
        "Sabemos que la probabilidad de que salga un número es de $\\frac{1}{6}$, es decir, la probabilidad de que salga un 1 es de $\\frac{1}{6}$, la probabilidad de que salga un 2 es de $\\frac{1}{6}$, etc.\n",
        "\n",
        "* Prueba la función con 6 lanzamientos, en una celda markdown explica porqué el resultado es dificilmente [1, 2, 3, 4, 5, 6].\n",
        "\n",
        "* Prueba la función con 1000 lanzamientos, crea una grafica de barras de los resultados (investiga como puedes graficar los resultados en una grafica de barras) y explica a que distribucion se parece y porqué es así.\n",
        "\n",
        "Hint: Para crear los números aleatorios, puedes usar la función `random.randint()`. O bien, usar el modulo numpy para crearlos. Para graficar los resultados, puedes usar la libreria matplotlib, seaborn, plotly o cualquiera que se te haga más fácil."
      ]
    },
    {
      "cell_type": "code",
      "source": [
        "import random #importamos la función random\n",
        "def dado(n): #definimos la función que recibe el numero de tiradas que queremos realizar\n",
        "  lanzamientos=[] #definimos una lista donde se guardaran las tiradas\n",
        "  for i in range (n): #iteramos sobre el numero de lanzamientos que queremos hacer\n",
        "    tirada= random.randint(1,6) #escogemos al azar un numero entre 1 y 6\n",
        "    lanzamientos.append(tirada) #añadimos el resultado de la tirada a la lista de lanzamientos\n",
        "  return lanzamientos #obtenemos las tiradas realizadas y nos imprime la lista con el resultado de los lanzamientos\n",
        "  \n",
        "dado(6) #aplicamos la función, hacemos 6 lanzamientos\n"
      ],
      "metadata": {
        "colab": {
          "base_uri": "https://localhost:8080/"
        },
        "id": "_NEXmH8vbP1Z",
        "outputId": "c191d9f2-373b-4455-884c-1363a1922e44"
      },
      "id": "_NEXmH8vbP1Z",
      "execution_count": 4,
      "outputs": [
        {
          "output_type": "execute_result",
          "data": {
            "text/plain": [
              "[1, 1, 5, 1, 1, 6]"
            ]
          },
          "metadata": {},
          "execution_count": 4
        }
      ]
    },
    {
      "cell_type": "markdown",
      "source": [
        "El resultado es dificilmente [1,2,3,4,5,6] al ser cada elemento elegido aleatoriamente y cada entrada independiente de las demás es muy poco probable que al azar se cree la lista con los elementos ordenados.  \n",
        "\n"
      ],
      "metadata": {
        "id": "d0VRuTEEXh7f"
      },
      "id": "d0VRuTEEXh7f"
    },
    {
      "cell_type": "code",
      "source": [
        "\n",
        "import numpy as np\n",
        "import matplotlib.pyplot as plt #importo las librerias\n",
        "lista=[]  #defino la lista para el valor 1/6 constante\n",
        "eje_x=np.array(range(1000)) #lista con 1000 elementos para el eje x\n",
        "x=np.array([0.,1.,2.,3.,4.,5.,6.,]) #lista x con los valores de las caras del dado\n",
        "dados= np.random.choice(x,1000) #tiramos 1000 vecces, escogemos de x al azar mil veces\n",
        "f=np.zeros_like(dados)\n",
        "e=np.zeros_like(dados)\n",
        "d=np.zeros_like(dados)\n",
        "c=np.zeros_like(dados)\n",
        "b=np.zeros_like(dados)\n",
        "a=np.zeros_like(dados) # 6 listas con el mismo tamaño que numero de lanzamientos para graficar cada cara\n",
        "j=0.\n",
        "k=0.\n",
        "l=0.\n",
        "m=0. \n",
        "n=0.\n",
        "o=0. #6 contadores en 0 para contar cada cara cuando aparece\n",
        "for i in range (1000): #iteramos sobre los 1000 elementos\n",
        "    lista.append(1/6) #añadimos el valor 1/6 constante para observar la probabilidad teorica en la grafica\n",
        "    if dados[i]==1.: #condicion sobre el reultado de los lanzamientos para contar cuantas veces aparece cada cara\n",
        "       j+= 1.  \n",
        "       k+=0. \n",
        "       l+=0. \n",
        "       m+=0.\n",
        "       n+=0.\n",
        "       o+=0. #los contadores toman un valor dependiendo la cara que apareció\n",
        "       f[i]= j/float(i+1)\n",
        "       e[i]=k/float(i+1)\n",
        "       d[i]=l/float(i+1)\n",
        "       c[i]=m/float(i+1)\n",
        "       b[i]=n/float(i+1)\n",
        "       a[i]=o/float(i+1) #los elementos de las listas van tomando un valor a partir de los contadores y en función de la frecuencia que aparece cada cara \n",
        "    if dados[i]==2.:\n",
        "        j+=0.\n",
        "        k+=1.\n",
        "        l+=0.\n",
        "        m+=0.\n",
        "        n+=0.\n",
        "        o+=0.\n",
        "        f[i]= j/float(i+1)\n",
        "        e[i]=k/float(i+1)\n",
        "        d[i]=l/float(i+1)\n",
        "        c[i]=m/float(i+1)\n",
        "        b[i]=n/float(i+1)\n",
        "        a[i]=o/float(i+1)\n",
        "    if dados[i]==3.:\n",
        "        j+=0.\n",
        "        k+=0.\n",
        "        l+=1.\n",
        "        m+=0.\n",
        "        n+=0.\n",
        "        o+=0.\n",
        "        f[i]= j/float(i+1)\n",
        "        e[i]=k/float(i+1)\n",
        "        d[i]=l/float(i+1)\n",
        "        c[i]=m/float(i+1)\n",
        "        b[i]=n/float(i+1)\n",
        "        a[i]=o/float(i+1)\n",
        "    if dados[i]==4.:\n",
        "        j+=0.\n",
        "        k+=0.\n",
        "        l+=0.\n",
        "        m+=1.\n",
        "        n+=0.\n",
        "        o+=0.\n",
        "        f[i]= j/float(i+1)\n",
        "        e[i]=k/float(i+1)\n",
        "        d[i]=l/float(i+1)\n",
        "        c[i]=m/float(i+1)\n",
        "        b[i]=n/float(i+1)\n",
        "        a[i]= o/float(i+1)\n",
        "    if dados[i]==5.:\n",
        "        j+=0.\n",
        "        k+=0.\n",
        "        l+=0.\n",
        "        m+=0.\n",
        "        n+=1.\n",
        "        o+=0.\n",
        "        f[i]= j/float(i+1)\n",
        "        e[i]=k/float(i+1)\n",
        "        d[i]=l/float(i+1)\n",
        "        c[i]=m/float(i+1)\n",
        "        b[i]=n/float(i+1)\n",
        "        a[i]=o/float(i+1)\n",
        "    if dados[i]==6.:\n",
        "        j+=0.\n",
        "        k+=0.\n",
        "        l+=0.\n",
        "        m+=0.\n",
        "        n+=0.\n",
        "        o+=1.\n",
        "        f[i]= j/float(i+1)\n",
        "        e[i]=k/float(i+1)\n",
        "        d[i]=l/float(i+1)\n",
        "        c[i]=m/float(i+1)\n",
        "        b[i]=n/float(i+1)\n",
        "        a[i]=o/float(i+1) #para cada cara, esto se puede mejorar con un ciclo for pero no logré implementarlo\n",
        "plt.plot(eje_x, f)\n",
        "plt.plot(eje_x,e)\n",
        "plt.plot(eje_x, d)\n",
        "plt.plot(eje_x, c)\n",
        "plt.plot(eje_x, b) #graficamos la fecuencia de cada cara, cada lista muestra la evoluición de su valor\n",
        "plt.plot(eje_x, a)\n",
        "plt.plot(eje_x, lista) #graficamos el valor 1/6 constante\n",
        "plt.xlabel('Numero de Tiradas')\n",
        "plt.ylabel('Frecuencia de las caras') #titulo de los ejes\n",
        "plt.show()\n"
      ],
      "metadata": {
        "colab": {
          "base_uri": "https://localhost:8080/",
          "height": 279
        },
        "id": "Q43K_vMDVlT5",
        "outputId": "80ee1308-b803-4816-dd6a-a5b3cea0a2c2"
      },
      "id": "Q43K_vMDVlT5",
      "execution_count": 7,
      "outputs": [
        {
          "output_type": "display_data",
          "data": {
            "text/plain": [
              "<Figure size 432x288 with 1 Axes>"
            ],
            "image/png": "[encoded data removed]"
          },
          "metadata": {
            "needs_background": "light"
          }
        }
      ]
    },
    {
      "cell_type": "code",
      "source": [
        "1/6"
      ],
      "metadata": {
        "colab": {
          "base_uri": "https://localhost:8080/"
        },
        "id": "fQAoJj3JZFvM",
        "outputId": "e7eff61b-104e-4cce-bd18-bd5bbaaadb70"
      },
      "id": "fQAoJj3JZFvM",
      "execution_count": null,
      "outputs": [
        {
          "output_type": "execute_result",
          "data": {
            "text/plain": [
              "0.16666666666666666"
            ]
          },
          "metadata": {},
          "execution_count": 47
        }
      ]
    },
    {
      "cell_type": "markdown",
      "source": [
        "Parece una distribución uniforme del valor 1/6, el primer valor es el unico que sobre sale ya que en el primer lanzamiento la fecuencia del valor que aparece es de 1, apartir de ahi la frecuencia tiende rapidamente a 1/6."
      ],
      "metadata": {
        "id": "5KY-tVdxbdf2"
      },
      "id": "5KY-tVdxbdf2"
    },
    {
      "cell_type": "code",
      "source": [],
      "metadata": {
        "id": "tONxYvDsa47X"
      },
      "id": "tONxYvDsa47X",
      "execution_count": null,
      "outputs": []
    }
  ],
  "metadata": {
    "kernelspec": {
      "display_name": "Python 3 (ipykernel)",
      "language": "python",
      "name": "python3"
    },
    "language_info": {
      "codemirror_mode": {
        "name": "ipython",
        "version": 3
      },
      "file_extension": ".py",
      "mimetype": "text/x-python",
      "name": "python",
      "nbconvert_exporter": "python",
      "pygments_lexer": "ipython3",
      "version": "3.9.16"
    },
    "vscode": {
      "interpreter": {
        "hash": "ad2bdc8ecc057115af97d19610ffacc2b4e99fae6737bb82f5d7fb13d2f2c186"
      }
    },
    "colab": {
      "provenance": []
    }
  },
  "nbformat": 4,
  "nbformat_minor": 5
}